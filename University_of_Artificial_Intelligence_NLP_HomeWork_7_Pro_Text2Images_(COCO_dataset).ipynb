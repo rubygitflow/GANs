{
  "nbformat": 4,
  "nbformat_minor": 0,
  "metadata": {
    "colab": {
      "name": "University of Artificial Intelligence. NLP.HomeWork 7.Pro. Text2Images. (COCO dataset)  ",
      "provenance": [],
      "collapsed_sections": [],
      "include_colab_link": true
    },
    "kernelspec": {
      "name": "python3",
      "display_name": "Python 3"
    },
    "accelerator": "GPU",
    "widgets": {
      "application/vnd.jupyter.widget-state+json": {
        "66d402ef725541458205d760b15bed72": {
          "model_module": "@jupyter-widgets/controls",
          "model_name": "HBoxModel",
          "state": {
            "_view_name": "HBoxView",
            "_dom_classes": [],
            "_model_name": "HBoxModel",
            "_view_module": "@jupyter-widgets/controls",
            "_model_module_version": "1.5.0",
            "_view_count": null,
            "_view_module_version": "1.5.0",
            "box_style": "",
            "layout": "IPY_MODEL_2b8bf656af184d97b7e8c44798f07593",
            "_model_module": "@jupyter-widgets/controls",
            "children": [
              "IPY_MODEL_b9989ebfdb4e4b8a91c7954287ed524d",
              "IPY_MODEL_83d53912063446db9105b09b6fc2f8e7"
            ]
          }
        },
        "2b8bf656af184d97b7e8c44798f07593": {
          "model_module": "@jupyter-widgets/base",
          "model_name": "LayoutModel",
          "state": {
            "_view_name": "LayoutView",
            "grid_template_rows": null,
            "right": null,
            "justify_content": null,
            "_view_module": "@jupyter-widgets/base",
            "overflow": null,
            "_model_module_version": "1.2.0",
            "_view_count": null,
            "flex_flow": null,
            "width": null,
            "min_width": null,
            "border": null,
            "align_items": null,
            "bottom": null,
            "_model_module": "@jupyter-widgets/base",
            "top": null,
            "grid_column": null,
            "overflow_y": null,
            "overflow_x": null,
            "grid_auto_flow": null,
            "grid_area": null,
            "grid_template_columns": null,
            "flex": null,
            "_model_name": "LayoutModel",
            "justify_items": null,
            "grid_row": null,
            "max_height": null,
            "align_content": null,
            "visibility": null,
            "align_self": null,
            "height": null,
            "min_height": null,
            "padding": null,
            "grid_auto_rows": null,
            "grid_gap": null,
            "max_width": null,
            "order": null,
            "_view_module_version": "1.2.0",
            "grid_template_areas": null,
            "object_position": null,
            "object_fit": null,
            "grid_auto_columns": null,
            "margin": null,
            "display": null,
            "left": null
          }
        },
        "b9989ebfdb4e4b8a91c7954287ed524d": {
          "model_module": "@jupyter-widgets/controls",
          "model_name": "FloatProgressModel",
          "state": {
            "_view_name": "ProgressView",
            "style": "IPY_MODEL_165c79e6dda04673a1f47d6a1b99c273",
            "_dom_classes": [],
            "description": "Downloading images: 100%",
            "_model_name": "FloatProgressModel",
            "bar_style": "success",
            "max": 3524,
            "_view_module": "@jupyter-widgets/controls",
            "_model_module_version": "1.5.0",
            "value": 3524,
            "_view_count": null,
            "_view_module_version": "1.5.0",
            "orientation": "horizontal",
            "min": 0,
            "description_tooltip": null,
            "_model_module": "@jupyter-widgets/controls",
            "layout": "IPY_MODEL_9b69382bb853472b9ec7069fc3265db9"
          }
        },
        "83d53912063446db9105b09b6fc2f8e7": {
          "model_module": "@jupyter-widgets/controls",
          "model_name": "HTMLModel",
          "state": {
            "_view_name": "HTMLView",
            "style": "IPY_MODEL_acaf381142064503b93e7772059754bc",
            "_dom_classes": [],
            "description": "",
            "_model_name": "HTMLModel",
            "placeholder": "​",
            "_view_module": "@jupyter-widgets/controls",
            "_model_module_version": "1.5.0",
            "value": " 3524/3524 [28:50&lt;00:00,  2.04it/s]",
            "_view_count": null,
            "_view_module_version": "1.5.0",
            "description_tooltip": null,
            "_model_module": "@jupyter-widgets/controls",
            "layout": "IPY_MODEL_528e7d5ce3eb4f5d8c5168a63550adcc"
          }
        },
        "165c79e6dda04673a1f47d6a1b99c273": {
          "model_module": "@jupyter-widgets/controls",
          "model_name": "ProgressStyleModel",
          "state": {
            "_view_name": "StyleView",
            "_model_name": "ProgressStyleModel",
            "description_width": "initial",
            "_view_module": "@jupyter-widgets/base",
            "_model_module_version": "1.5.0",
            "_view_count": null,
            "_view_module_version": "1.2.0",
            "bar_color": null,
            "_model_module": "@jupyter-widgets/controls"
          }
        },
        "9b69382bb853472b9ec7069fc3265db9": {
          "model_module": "@jupyter-widgets/base",
          "model_name": "LayoutModel",
          "state": {
            "_view_name": "LayoutView",
            "grid_template_rows": null,
            "right": null,
            "justify_content": null,
            "_view_module": "@jupyter-widgets/base",
            "overflow": null,
            "_model_module_version": "1.2.0",
            "_view_count": null,
            "flex_flow": null,
            "width": null,
            "min_width": null,
            "border": null,
            "align_items": null,
            "bottom": null,
            "_model_module": "@jupyter-widgets/base",
            "top": null,
            "grid_column": null,
            "overflow_y": null,
            "overflow_x": null,
            "grid_auto_flow": null,
            "grid_area": null,
            "grid_template_columns": null,
            "flex": null,
            "_model_name": "LayoutModel",
            "justify_items": null,
            "grid_row": null,
            "max_height": null,
            "align_content": null,
            "visibility": null,
            "align_self": null,
            "height": null,
            "min_height": null,
            "padding": null,
            "grid_auto_rows": null,
            "grid_gap": null,
            "max_width": null,
            "order": null,
            "_view_module_version": "1.2.0",
            "grid_template_areas": null,
            "object_position": null,
            "object_fit": null,
            "grid_auto_columns": null,
            "margin": null,
            "display": null,
            "left": null
          }
        },
        "acaf381142064503b93e7772059754bc": {
          "model_module": "@jupyter-widgets/controls",
          "model_name": "DescriptionStyleModel",
          "state": {
            "_view_name": "StyleView",
            "_model_name": "DescriptionStyleModel",
            "description_width": "",
            "_view_module": "@jupyter-widgets/base",
            "_model_module_version": "1.5.0",
            "_view_count": null,
            "_view_module_version": "1.2.0",
            "_model_module": "@jupyter-widgets/controls"
          }
        },
        "528e7d5ce3eb4f5d8c5168a63550adcc": {
          "model_module": "@jupyter-widgets/base",
          "model_name": "LayoutModel",
          "state": {
            "_view_name": "LayoutView",
            "grid_template_rows": null,
            "right": null,
            "justify_content": null,
            "_view_module": "@jupyter-widgets/base",
            "overflow": null,
            "_model_module_version": "1.2.0",
            "_view_count": null,
            "flex_flow": null,
            "width": null,
            "min_width": null,
            "border": null,
            "align_items": null,
            "bottom": null,
            "_model_module": "@jupyter-widgets/base",
            "top": null,
            "grid_column": null,
            "overflow_y": null,
            "overflow_x": null,
            "grid_auto_flow": null,
            "grid_area": null,
            "grid_template_columns": null,
            "flex": null,
            "_model_name": "LayoutModel",
            "justify_items": null,
            "grid_row": null,
            "max_height": null,
            "align_content": null,
            "visibility": null,
            "align_self": null,
            "height": null,
            "min_height": null,
            "padding": null,
            "grid_auto_rows": null,
            "grid_gap": null,
            "max_width": null,
            "order": null,
            "_view_module_version": "1.2.0",
            "grid_template_areas": null,
            "object_position": null,
            "object_fit": null,
            "grid_auto_columns": null,
            "margin": null,
            "display": null,
            "left": null
          }
        },
        "7fa65a457325440388ba5876cd85c9f4": {
          "model_module": "@jupyter-widgets/controls",
          "model_name": "HBoxModel",
          "state": {
            "_view_name": "HBoxView",
            "_dom_classes": [],
            "_model_name": "HBoxModel",
            "_view_module": "@jupyter-widgets/controls",
            "_model_module_version": "1.5.0",
            "_view_count": null,
            "_view_module_version": "1.5.0",
            "box_style": "",
            "layout": "IPY_MODEL_22abc822b1904e5bad85f009b9d10468",
            "_model_module": "@jupyter-widgets/controls",
            "children": [
              "IPY_MODEL_3379c24e75bb42a9aa2c511fbb057552",
              "IPY_MODEL_6f6d05811825439ab2d32823203daf1d"
            ]
          }
        },
        "22abc822b1904e5bad85f009b9d10468": {
          "model_module": "@jupyter-widgets/base",
          "model_name": "LayoutModel",
          "state": {
            "_view_name": "LayoutView",
            "grid_template_rows": null,
            "right": null,
            "justify_content": null,
            "_view_module": "@jupyter-widgets/base",
            "overflow": null,
            "_model_module_version": "1.2.0",
            "_view_count": null,
            "flex_flow": null,
            "width": null,
            "min_width": null,
            "border": null,
            "align_items": null,
            "bottom": null,
            "_model_module": "@jupyter-widgets/base",
            "top": null,
            "grid_column": null,
            "overflow_y": null,
            "overflow_x": null,
            "grid_auto_flow": null,
            "grid_area": null,
            "grid_template_columns": null,
            "flex": null,
            "_model_name": "LayoutModel",
            "justify_items": null,
            "grid_row": null,
            "max_height": null,
            "align_content": null,
            "visibility": null,
            "align_self": null,
            "height": null,
            "min_height": null,
            "padding": null,
            "grid_auto_rows": null,
            "grid_gap": null,
            "max_width": null,
            "order": null,
            "_view_module_version": "1.2.0",
            "grid_template_areas": null,
            "object_position": null,
            "object_fit": null,
            "grid_auto_columns": null,
            "margin": null,
            "display": null,
            "left": null
          }
        },
        "3379c24e75bb42a9aa2c511fbb057552": {
          "model_module": "@jupyter-widgets/controls",
          "model_name": "FloatProgressModel",
          "state": {
            "_view_name": "ProgressView",
            "style": "IPY_MODEL_500e5f7bee27420d9a0cd0f14ce79470",
            "_dom_classes": [],
            "description": "Downloading bboxes: 100%",
            "_model_name": "FloatProgressModel",
            "bar_style": "success",
            "max": 4970,
            "_view_module": "@jupyter-widgets/controls",
            "_model_module_version": "1.5.0",
            "value": 4970,
            "_view_count": null,
            "_view_module_version": "1.5.0",
            "orientation": "horizontal",
            "min": 0,
            "description_tooltip": null,
            "_model_module": "@jupyter-widgets/controls",
            "layout": "IPY_MODEL_4589be5c638d4cc5bf256c6519ea8a72"
          }
        },
        "6f6d05811825439ab2d32823203daf1d": {
          "model_module": "@jupyter-widgets/controls",
          "model_name": "HTMLModel",
          "state": {
            "_view_name": "HTMLView",
            "style": "IPY_MODEL_b8bd6a4b1f0d41fe96e5f97ab7d7b303",
            "_dom_classes": [],
            "description": "",
            "_model_name": "HTMLModel",
            "placeholder": "​",
            "_view_module": "@jupyter-widgets/controls",
            "_model_module_version": "1.5.0",
            "value": " 4970/4970 [00:00&lt;00:00, 24279.75it/s]",
            "_view_count": null,
            "_view_module_version": "1.5.0",
            "description_tooltip": null,
            "_model_module": "@jupyter-widgets/controls",
            "layout": "IPY_MODEL_75491cbe8b3443c4b8c5f66125026089"
          }
        },
        "500e5f7bee27420d9a0cd0f14ce79470": {
          "model_module": "@jupyter-widgets/controls",
          "model_name": "ProgressStyleModel",
          "state": {
            "_view_name": "StyleView",
            "_model_name": "ProgressStyleModel",
            "description_width": "initial",
            "_view_module": "@jupyter-widgets/base",
            "_model_module_version": "1.5.0",
            "_view_count": null,
            "_view_module_version": "1.2.0",
            "bar_color": null,
            "_model_module": "@jupyter-widgets/controls"
          }
        },
        "4589be5c638d4cc5bf256c6519ea8a72": {
          "model_module": "@jupyter-widgets/base",
          "model_name": "LayoutModel",
          "state": {
            "_view_name": "LayoutView",
            "grid_template_rows": null,
            "right": null,
            "justify_content": null,
            "_view_module": "@jupyter-widgets/base",
            "overflow": null,
            "_model_module_version": "1.2.0",
            "_view_count": null,
            "flex_flow": null,
            "width": null,
            "min_width": null,
            "border": null,
            "align_items": null,
            "bottom": null,
            "_model_module": "@jupyter-widgets/base",
            "top": null,
            "grid_column": null,
            "overflow_y": null,
            "overflow_x": null,
            "grid_auto_flow": null,
            "grid_area": null,
            "grid_template_columns": null,
            "flex": null,
            "_model_name": "LayoutModel",
            "justify_items": null,
            "grid_row": null,
            "max_height": null,
            "align_content": null,
            "visibility": null,
            "align_self": null,
            "height": null,
            "min_height": null,
            "padding": null,
            "grid_auto_rows": null,
            "grid_gap": null,
            "max_width": null,
            "order": null,
            "_view_module_version": "1.2.0",
            "grid_template_areas": null,
            "object_position": null,
            "object_fit": null,
            "grid_auto_columns": null,
            "margin": null,
            "display": null,
            "left": null
          }
        },
        "b8bd6a4b1f0d41fe96e5f97ab7d7b303": {
          "model_module": "@jupyter-widgets/controls",
          "model_name": "DescriptionStyleModel",
          "state": {
            "_view_name": "StyleView",
            "_model_name": "DescriptionStyleModel",
            "description_width": "",
            "_view_module": "@jupyter-widgets/base",
            "_model_module_version": "1.5.0",
            "_view_count": null,
            "_view_module_version": "1.2.0",
            "_model_module": "@jupyter-widgets/controls"
          }
        },
        "75491cbe8b3443c4b8c5f66125026089": {
          "model_module": "@jupyter-widgets/base",
          "model_name": "LayoutModel",
          "state": {
            "_view_name": "LayoutView",
            "grid_template_rows": null,
            "right": null,
            "justify_content": null,
            "_view_module": "@jupyter-widgets/base",
            "overflow": null,
            "_model_module_version": "1.2.0",
            "_view_count": null,
            "flex_flow": null,
            "width": null,
            "min_width": null,
            "border": null,
            "align_items": null,
            "bottom": null,
            "_model_module": "@jupyter-widgets/base",
            "top": null,
            "grid_column": null,
            "overflow_y": null,
            "overflow_x": null,
            "grid_auto_flow": null,
            "grid_area": null,
            "grid_template_columns": null,
            "flex": null,
            "_model_name": "LayoutModel",
            "justify_items": null,
            "grid_row": null,
            "max_height": null,
            "align_content": null,
            "visibility": null,
            "align_self": null,
            "height": null,
            "min_height": null,
            "padding": null,
            "grid_auto_rows": null,
            "grid_gap": null,
            "max_width": null,
            "order": null,
            "_view_module_version": "1.2.0",
            "grid_template_areas": null,
            "object_position": null,
            "object_fit": null,
            "grid_auto_columns": null,
            "margin": null,
            "display": null,
            "left": null
          }
        },
        "632aa3602e114f03a02c03e8719a3ded": {
          "model_module": "@jupyter-widgets/controls",
          "model_name": "HBoxModel",
          "state": {
            "_view_name": "HBoxView",
            "_dom_classes": [],
            "_model_name": "HBoxModel",
            "_view_module": "@jupyter-widgets/controls",
            "_model_module_version": "1.5.0",
            "_view_count": null,
            "_view_module_version": "1.5.0",
            "box_style": "",
            "layout": "IPY_MODEL_be0d962b6abf4c3ca1486781a763a1a7",
            "_model_module": "@jupyter-widgets/controls",
            "children": [
              "IPY_MODEL_40a5dc0a09d248de94dc8f61e5f204fe",
              "IPY_MODEL_10266fbdd1e44bb084a32354e751362b"
            ]
          }
        },
        "be0d962b6abf4c3ca1486781a763a1a7": {
          "model_module": "@jupyter-widgets/base",
          "model_name": "LayoutModel",
          "state": {
            "_view_name": "LayoutView",
            "grid_template_rows": null,
            "right": null,
            "justify_content": null,
            "_view_module": "@jupyter-widgets/base",
            "overflow": null,
            "_model_module_version": "1.2.0",
            "_view_count": null,
            "flex_flow": null,
            "width": null,
            "min_width": null,
            "border": null,
            "align_items": null,
            "bottom": null,
            "_model_module": "@jupyter-widgets/base",
            "top": null,
            "grid_column": null,
            "overflow_y": null,
            "overflow_x": null,
            "grid_auto_flow": null,
            "grid_area": null,
            "grid_template_columns": null,
            "flex": null,
            "_model_name": "LayoutModel",
            "justify_items": null,
            "grid_row": null,
            "max_height": null,
            "align_content": null,
            "visibility": null,
            "align_self": null,
            "height": null,
            "min_height": null,
            "padding": null,
            "grid_auto_rows": null,
            "grid_gap": null,
            "max_width": null,
            "order": null,
            "_view_module_version": "1.2.0",
            "grid_template_areas": null,
            "object_position": null,
            "object_fit": null,
            "grid_auto_columns": null,
            "margin": null,
            "display": null,
            "left": null
          }
        },
        "40a5dc0a09d248de94dc8f61e5f204fe": {
          "model_module": "@jupyter-widgets/controls",
          "model_name": "FloatProgressModel",
          "state": {
            "_view_name": "ProgressView",
            "style": "IPY_MODEL_4a07acba7084457bbb76537a9f9e45e9",
            "_dom_classes": [],
            "description": "100%",
            "_model_name": "FloatProgressModel",
            "bar_style": "success",
            "max": 4970,
            "_view_module": "@jupyter-widgets/controls",
            "_model_module_version": "1.5.0",
            "value": 4970,
            "_view_count": null,
            "_view_module_version": "1.5.0",
            "orientation": "horizontal",
            "min": 0,
            "description_tooltip": null,
            "_model_module": "@jupyter-widgets/controls",
            "layout": "IPY_MODEL_9413881ed8c74f249d63dad0a9d5af8d"
          }
        },
        "10266fbdd1e44bb084a32354e751362b": {
          "model_module": "@jupyter-widgets/controls",
          "model_name": "HTMLModel",
          "state": {
            "_view_name": "HTMLView",
            "style": "IPY_MODEL_e7ba7b9772bf4339b6810656ad11885e",
            "_dom_classes": [],
            "description": "",
            "_model_name": "HTMLModel",
            "placeholder": "​",
            "_view_module": "@jupyter-widgets/controls",
            "_model_module_version": "1.5.0",
            "value": " 4970/4970 [03:22&lt;00:00, 24.58it/s]",
            "_view_count": null,
            "_view_module_version": "1.5.0",
            "description_tooltip": null,
            "_model_module": "@jupyter-widgets/controls",
            "layout": "IPY_MODEL_f32ccb5e16fb405ebb505a6c4d967987"
          }
        },
        "4a07acba7084457bbb76537a9f9e45e9": {
          "model_module": "@jupyter-widgets/controls",
          "model_name": "ProgressStyleModel",
          "state": {
            "_view_name": "StyleView",
            "_model_name": "ProgressStyleModel",
            "description_width": "initial",
            "_view_module": "@jupyter-widgets/base",
            "_model_module_version": "1.5.0",
            "_view_count": null,
            "_view_module_version": "1.2.0",
            "bar_color": null,
            "_model_module": "@jupyter-widgets/controls"
          }
        },
        "9413881ed8c74f249d63dad0a9d5af8d": {
          "model_module": "@jupyter-widgets/base",
          "model_name": "LayoutModel",
          "state": {
            "_view_name": "LayoutView",
            "grid_template_rows": null,
            "right": null,
            "justify_content": null,
            "_view_module": "@jupyter-widgets/base",
            "overflow": null,
            "_model_module_version": "1.2.0",
            "_view_count": null,
            "flex_flow": null,
            "width": null,
            "min_width": null,
            "border": null,
            "align_items": null,
            "bottom": null,
            "_model_module": "@jupyter-widgets/base",
            "top": null,
            "grid_column": null,
            "overflow_y": null,
            "overflow_x": null,
            "grid_auto_flow": null,
            "grid_area": null,
            "grid_template_columns": null,
            "flex": null,
            "_model_name": "LayoutModel",
            "justify_items": null,
            "grid_row": null,
            "max_height": null,
            "align_content": null,
            "visibility": null,
            "align_self": null,
            "height": null,
            "min_height": null,
            "padding": null,
            "grid_auto_rows": null,
            "grid_gap": null,
            "max_width": null,
            "order": null,
            "_view_module_version": "1.2.0",
            "grid_template_areas": null,
            "object_position": null,
            "object_fit": null,
            "grid_auto_columns": null,
            "margin": null,
            "display": null,
            "left": null
          }
        },
        "e7ba7b9772bf4339b6810656ad11885e": {
          "model_module": "@jupyter-widgets/controls",
          "model_name": "DescriptionStyleModel",
          "state": {
            "_view_name": "StyleView",
            "_model_name": "DescriptionStyleModel",
            "description_width": "",
            "_view_module": "@jupyter-widgets/base",
            "_model_module_version": "1.5.0",
            "_view_count": null,
            "_view_module_version": "1.2.0",
            "_model_module": "@jupyter-widgets/controls"
          }
        },
        "f32ccb5e16fb405ebb505a6c4d967987": {
          "model_module": "@jupyter-widgets/base",
          "model_name": "LayoutModel",
          "state": {
            "_view_name": "LayoutView",
            "grid_template_rows": null,
            "right": null,
            "justify_content": null,
            "_view_module": "@jupyter-widgets/base",
            "overflow": null,
            "_model_module_version": "1.2.0",
            "_view_count": null,
            "flex_flow": null,
            "width": null,
            "min_width": null,
            "border": null,
            "align_items": null,
            "bottom": null,
            "_model_module": "@jupyter-widgets/base",
            "top": null,
            "grid_column": null,
            "overflow_y": null,
            "overflow_x": null,
            "grid_auto_flow": null,
            "grid_area": null,
            "grid_template_columns": null,
            "flex": null,
            "_model_name": "LayoutModel",
            "justify_items": null,
            "grid_row": null,
            "max_height": null,
            "align_content": null,
            "visibility": null,
            "align_self": null,
            "height": null,
            "min_height": null,
            "padding": null,
            "grid_auto_rows": null,
            "grid_gap": null,
            "max_width": null,
            "order": null,
            "_view_module_version": "1.2.0",
            "grid_template_areas": null,
            "object_position": null,
            "object_fit": null,
            "grid_auto_columns": null,
            "margin": null,
            "display": null,
            "left": null
          }
        }
      }
    }
  },
  "cells": [
    {
      "cell_type": "markdown",
      "metadata": {
        "id": "view-in-github",
        "colab_type": "text"
      },
      "source": [
        "<a href=\"https://colab.research.google.com/github/rubygitflow/GANs/blob/master/University_of_Artificial_Intelligence_NLP_HomeWork_7_Pro_Text2Images_(COCO_dataset).ipynb\" target=\"_parent\"><img src=\"https://colab.research.google.com/assets/colab-badge.svg\" alt=\"Open In Colab\"/></a>"
      ]
    },
    {
      "cell_type": "markdown",
      "metadata": {
        "id": "gC2g7ilca8jA",
        "colab_type": "text"
      },
      "source": [
        "# NLP.Lesson 7.2.Text2Images"
      ]
    },
    {
      "cell_type": "markdown",
      "metadata": {
        "id": "Npup6PYblvZ8",
        "colab_type": "text"
      },
      "source": [
        "**COCO categories:**\n",
        "\n",
        "person, bicycle, car, motorcycle, airplane, bus, train, truck, boat, traffic light, fire hydrant, stop sign, parking meter, bench, bird, cat, dog, horse, sheep, cow, elephant, bear, zebra, giraffe, backpack, umbrella, handbag, tie, suitcase, frisbee, skis, snowboard, sports ball, kite, baseball bat, baseball glove, skateboard, surfboard, tennis racket, bottle, wine glass, cup, fork, knife, spoon, bowl, banana, apple, sandwich, orange, broccoli, carrot, hot dog, pizza, donut, cake, chair, couch, potted plant, bed, dining table, toilet, tv, laptop, mouse, remote, keyboard, cell phone, microwave, oven, toaster, sink, refrigerator, book, clock, vase, scissors, teddy bear, hair drier, toothbrush"
      ]
    },
    {
      "cell_type": "code",
      "metadata": {
        "id": "hwvCzgcH9TXH",
        "colab_type": "code",
        "colab": {}
      },
      "source": [
        "import pandas as pd\n",
        "import numpy as np\n",
        "import matplotlib.pyplot as plt\n",
        "%matplotlib inline\n",
        "import PIL\n",
        "from PIL import Image\n",
        "\n",
        "import imageio\n",
        "from tqdm.notebook import tqdm\n",
        "from skimage.transform import resize\n",
        "\n",
        "import os\n",
        "import pickle\n",
        "import random\n",
        "import time\n",
        "\n",
        "import tensorflow as tf\n",
        "import tensorflow_hub as hub\n",
        "from tensorflow.keras import Input, Model\n",
        "from tensorflow.keras import backend as K\n",
        "from tensorflow.keras.callbacks import TensorBoard\n",
        "from tensorflow.keras.layers import Dense, LeakyReLU, BatchNormalization, ReLU, Reshape, \\\n",
        "     UpSampling2D, Conv2D, Activation, concatenate, Flatten, Lambda, Concatenate\n",
        "from tensorflow.keras.optimizers import Adam\n",
        "\n",
        "from tensorflow.keras.preprocessing.image import load_img, img_to_array"
      ],
      "execution_count": null,
      "outputs": []
    },
    {
      "cell_type": "markdown",
      "metadata": {
        "id": "DtGbK4PcYIQP",
        "colab_type": "text"
      },
      "source": [
        "## Checking the GPU"
      ]
    },
    {
      "cell_type": "code",
      "metadata": {
        "id": "OoZrMxlU_dAV",
        "colab_type": "code",
        "colab": {
          "base_uri": "https://localhost:8080/",
          "height": 272
        },
        "outputId": "3a1937d0-35cc-4b5f-de1c-cb1bec2badb1"
      },
      "source": [
        "!ln -sf /opt/bin/nvidia-smi /usr/bin/nvidia-smi\n",
        "!pip install gputil\n",
        "!pip install psutil\n",
        "!pip install humanize\n",
        "\n",
        "import os\n",
        "import psutil\n",
        "import humanize\n",
        "import GPUtil as GPU\n",
        "GPUs = GPU.getGPUs()\n",
        "if len(GPUs)>0:\n",
        "  gpu = GPUs[0]\n",
        "else:\n",
        "  print('GPU turned off')\n",
        "def printm():\n",
        "  process = psutil.Process(os.getpid())\n",
        "  print(\"Gen RAM FREE: \"+humanize.naturalsize( psutil.virtual_memory().available ), \" | Proc size: \" + humanize.naturalsize( process.memory_info().rss))\n",
        "  if len(GPUs)>0:\n",
        "    print(\"Gen RAM FREE: {0:.0f}MB | Used: {1:.0f}MB | Util {2:3.0f}% | Total {3:.0f}MB\".format(gpu.memoryFree, gpu.memoryUsed, gpu.memoryUtil*100, gpu.memoryTotal))\n",
        "    print(\"GPU Model: \" + gpu.name)\n",
        "\n",
        "printm()"
      ],
      "execution_count": null,
      "outputs": [
        {
          "output_type": "stream",
          "text": [
            "Collecting gputil\n",
            "  Downloading https://files.pythonhosted.org/packages/ed/0e/5c61eedde9f6c87713e89d794f01e378cfd9565847d4576fa627d758c554/GPUtil-1.4.0.tar.gz\n",
            "Building wheels for collected packages: gputil\n",
            "  Building wheel for gputil (setup.py) ... \u001b[?25l\u001b[?25hdone\n",
            "  Created wheel for gputil: filename=GPUtil-1.4.0-cp36-none-any.whl size=7411 sha256=eff9309758d7230e9c325d84f4a782e0b91d5c1aca091502841c82172357a5ca\n",
            "  Stored in directory: /root/.cache/pip/wheels/3d/77/07/80562de4bb0786e5ea186911a2c831fdd0018bda69beab71fd\n",
            "Successfully built gputil\n",
            "Installing collected packages: gputil\n",
            "Successfully installed gputil-1.4.0\n",
            "Requirement already satisfied: psutil in /usr/local/lib/python3.6/dist-packages (5.4.8)\n",
            "Requirement already satisfied: humanize in /usr/local/lib/python3.6/dist-packages (0.5.1)\n",
            "Gen RAM FREE: 12.7 GB  | Proc size: 371.8 MB\n",
            "Gen RAM FREE: 15079MB | Used: 0MB | Util   0% | Total 15079MB\n",
            "GPU Model: Tesla T4\n"
          ],
          "name": "stdout"
        }
      ]
    },
    {
      "cell_type": "markdown",
      "metadata": {
        "id": "2YkB09BIXcb2",
        "colab_type": "text"
      },
      "source": [
        "#Downloading COCO-dataset\n",
        "\n",
        "We are loocking for \"Common Objects in Context\" dataset on https://cocodataset.org/#download"
      ]
    },
    {
      "cell_type": "code",
      "metadata": {
        "id": "WtnDUl64wmIK",
        "colab_type": "code",
        "colab": {
          "base_uri": "https://localhost:8080/",
          "height": 202
        },
        "outputId": "cffbbdbb-ea04-4e4c-fa3d-2d01e56b2196"
      },
      "source": [
        "!wget http://images.cocodataset.org/annotations/annotations_trainval2017.zip"
      ],
      "execution_count": null,
      "outputs": [
        {
          "output_type": "stream",
          "text": [
            "--2020-09-20 22:37:24--  http://images.cocodataset.org/annotations/annotations_trainval2017.zip\n",
            "Resolving images.cocodataset.org (images.cocodataset.org)... 52.216.93.179\n",
            "Connecting to images.cocodataset.org (images.cocodataset.org)|52.216.93.179|:80... connected.\n",
            "HTTP request sent, awaiting response... 200 OK\n",
            "Length: 252907541 (241M) [application/zip]\n",
            "Saving to: ‘annotations_trainval2017.zip’\n",
            "\n",
            "annotations_trainva 100%[===================>] 241.19M  31.8MB/s    in 7.8s    \n",
            "\n",
            "2020-09-20 22:37:32 (30.9 MB/s) - ‘annotations_trainval2017.zip’ saved [252907541/252907541]\n",
            "\n"
          ],
          "name": "stdout"
        }
      ]
    },
    {
      "cell_type": "code",
      "metadata": {
        "id": "tUbJqhSjwoBy",
        "colab_type": "code",
        "colab": {
          "base_uri": "https://localhost:8080/",
          "height": 134
        },
        "outputId": "99c0cac2-4f73-4c6b-b7f5-d81b6aa71d2c"
      },
      "source": [
        "!unzip annotations_trainval2017.zip"
      ],
      "execution_count": null,
      "outputs": [
        {
          "output_type": "stream",
          "text": [
            "Archive:  annotations_trainval2017.zip\n",
            "  inflating: annotations/instances_train2017.json  \n",
            "  inflating: annotations/instances_val2017.json  \n",
            "  inflating: annotations/captions_train2017.json  \n",
            "  inflating: annotations/captions_val2017.json  \n",
            "  inflating: annotations/person_keypoints_train2017.json  \n",
            "  inflating: annotations/person_keypoints_val2017.json  \n"
          ],
          "name": "stdout"
        }
      ]
    },
    {
      "cell_type": "markdown",
      "metadata": {
        "id": "gqE0hza3mNVQ",
        "colab_type": "text"
      },
      "source": [
        "We only need descriptions of captions and instances."
      ]
    },
    {
      "cell_type": "code",
      "metadata": {
        "id": "2cMN6D5Mp7-y",
        "colab_type": "code",
        "colab": {
          "base_uri": "https://localhost:8080/",
          "height": 34
        },
        "outputId": "b97297a3-d988-4003-e08c-6e5be63b8533"
      },
      "source": [
        "from google.colab import drive\n",
        "drive.mount('/content/drive')"
      ],
      "execution_count": null,
      "outputs": [
        {
          "output_type": "stream",
          "text": [
            "Mounted at /content/drive\n"
          ],
          "name": "stdout"
        }
      ]
    },
    {
      "cell_type": "code",
      "metadata": {
        "id": "Fuw56Th1prCh",
        "colab_type": "code",
        "colab": {}
      },
      "source": [
        "!cp /content/drive/My\\ Drive/Базы/NLP/load_class.py -d /content/load_class.py"
      ],
      "execution_count": null,
      "outputs": []
    },
    {
      "cell_type": "code",
      "metadata": {
        "id": "PGajVoZh6H3l",
        "colab_type": "code",
        "colab": {}
      },
      "source": [
        "from load_class import load_class"
      ],
      "execution_count": null,
      "outputs": []
    },
    {
      "cell_type": "code",
      "metadata": {
        "id": "MElOvOhh6YwV",
        "colab_type": "code",
        "colab": {
          "base_uri": "https://localhost:8080/",
          "height": 420,
          "referenced_widgets": [
            "66d402ef725541458205d760b15bed72",
            "2b8bf656af184d97b7e8c44798f07593",
            "b9989ebfdb4e4b8a91c7954287ed524d",
            "83d53912063446db9105b09b6fc2f8e7",
            "165c79e6dda04673a1f47d6a1b99c273",
            "9b69382bb853472b9ec7069fc3265db9",
            "acaf381142064503b93e7772059754bc",
            "528e7d5ce3eb4f5d8c5168a63550adcc",
            "7fa65a457325440388ba5876cd85c9f4",
            "22abc822b1904e5bad85f009b9d10468",
            "3379c24e75bb42a9aa2c511fbb057552",
            "6f6d05811825439ab2d32823203daf1d",
            "500e5f7bee27420d9a0cd0f14ce79470",
            "4589be5c638d4cc5bf256c6519ea8a72",
            "b8bd6a4b1f0d41fe96e5f97ab7d7b303",
            "75491cbe8b3443c4b8c5f66125026089"
          ]
        },
        "outputId": "cc4f31bf-4319-433b-c0dd-d0c44ad5a072"
      },
      "source": [
        "# run the module function that downloads the dataset from COCO by the specified class and category\n",
        "load_class('laptop', 'train2017') "
      ],
      "execution_count": null,
      "outputs": [
        {
          "output_type": "stream",
          "text": [
            "loading annotations into memory...\n",
            "Done (t=14.37s)\n",
            "creating index...\n",
            "index created!\n",
            "loading annotations into memory...\n",
            "Done (t=0.94s)\n",
            "creating index...\n",
            "index created!\n",
            "COCO categories: \n",
            "person, bicycle, car, motorcycle, airplane, bus, train, truck, boat, traffic light, fire hydrant, stop sign, parking meter, bench, bird, cat, dog, horse, sheep, cow, elephant, bear, zebra, giraffe, backpack, umbrella, handbag, tie, suitcase, frisbee, skis, snowboard, sports ball, kite, baseball bat, baseball glove, skateboard, surfboard, tennis racket, bottle, wine glass, cup, fork, knife, spoon, bowl, banana, apple, sandwich, orange, broccoli, carrot, hot dog, pizza, donut, cake, chair, couch, potted plant, bed, dining table, toilet, tv, laptop, mouse, remote, keyboard, cell phone, microwave, oven, toaster, sink, refrigerator, book, clock, vase, scissors, teddy bear, hair drier, toothbrush\n",
            "\n",
            "----------------------------------------\n",
            "Selected category -  laptop\n",
            "\n"
          ],
          "name": "stdout"
        },
        {
          "output_type": "display_data",
          "data": {
            "application/vnd.jupyter.widget-view+json": {
              "model_id": "66d402ef725541458205d760b15bed72",
              "version_minor": 0,
              "version_major": 2
            },
            "text/plain": [
              "HBox(children=(FloatProgress(value=0.0, description='Downloading images', max=3524.0, style=ProgressStyle(desc…"
            ]
          },
          "metadata": {
            "tags": []
          }
        },
        {
          "output_type": "stream",
          "text": [
            "\n"
          ],
          "name": "stdout"
        },
        {
          "output_type": "display_data",
          "data": {
            "application/vnd.jupyter.widget-view+json": {
              "model_id": "7fa65a457325440388ba5876cd85c9f4",
              "version_minor": 0,
              "version_major": 2
            },
            "text/plain": [
              "HBox(children=(FloatProgress(value=0.0, description='Downloading bboxes', max=4970.0, style=ProgressStyle(desc…"
            ]
          },
          "metadata": {
            "tags": []
          }
        },
        {
          "output_type": "stream",
          "text": [
            "\n",
            "Skipped files due to errors:  0\n",
            "After the mask, the number of downloaded files = the number of descriptions in csv: True\n",
            "Total downloaded images of a specific class:  3524\n"
          ],
          "name": "stdout"
        }
      ]
    },
    {
      "cell_type": "markdown",
      "metadata": {
        "id": "CpaGhnnzXnnN",
        "colab_type": "text"
      },
      "source": [
        "# Preparing dataset"
      ]
    },
    {
      "cell_type": "code",
      "metadata": {
        "id": "5KacEbjlDaeK",
        "colab_type": "code",
        "colab": {}
      },
      "source": [
        "df_bbs = pd.read_csv('/content/data/cat_ann/ann_BB_train2017.csv', index_col=0)"
      ],
      "execution_count": null,
      "outputs": []
    },
    {
      "cell_type": "code",
      "metadata": {
        "id": "J_158K_tD1y2",
        "colab_type": "code",
        "colab": {
          "base_uri": "https://localhost:8080/",
          "height": 195
        },
        "outputId": "385a04c8-b580-43e9-dde0-00bb2c6d6d8a"
      },
      "source": [
        "df_bbs.head()"
      ],
      "execution_count": null,
      "outputs": [
        {
          "output_type": "execute_result",
          "data": {
            "text/html": [
              "<div>\n",
              "<style scoped>\n",
              "    .dataframe tbody tr th:only-of-type {\n",
              "        vertical-align: middle;\n",
              "    }\n",
              "\n",
              "    .dataframe tbody tr th {\n",
              "        vertical-align: top;\n",
              "    }\n",
              "\n",
              "    .dataframe thead th {\n",
              "        text-align: right;\n",
              "    }\n",
              "</style>\n",
              "<table border=\"1\" class=\"dataframe\">\n",
              "  <thead>\n",
              "    <tr style=\"text-align: right;\">\n",
              "      <th></th>\n",
              "      <th>filename</th>\n",
              "      <th>idx</th>\n",
              "      <th>width</th>\n",
              "      <th>height</th>\n",
              "      <th>class</th>\n",
              "      <th>xmin</th>\n",
              "      <th>ymin</th>\n",
              "      <th>xmax</th>\n",
              "      <th>ymax</th>\n",
              "    </tr>\n",
              "  </thead>\n",
              "  <tbody>\n",
              "    <tr>\n",
              "      <th>0</th>\n",
              "      <td>000000092173.jpg</td>\n",
              "      <td>92173</td>\n",
              "      <td>640</td>\n",
              "      <td>478</td>\n",
              "      <td>laptop</td>\n",
              "      <td>45</td>\n",
              "      <td>144</td>\n",
              "      <td>209</td>\n",
              "      <td>281</td>\n",
              "    </tr>\n",
              "    <tr>\n",
              "      <th>1</th>\n",
              "      <td>000000441415.jpg</td>\n",
              "      <td>441415</td>\n",
              "      <td>640</td>\n",
              "      <td>480</td>\n",
              "      <td>laptop</td>\n",
              "      <td>388</td>\n",
              "      <td>252</td>\n",
              "      <td>447</td>\n",
              "      <td>275</td>\n",
              "    </tr>\n",
              "    <tr>\n",
              "      <th>2</th>\n",
              "      <td>000000150342.jpg</td>\n",
              "      <td>150342</td>\n",
              "      <td>640</td>\n",
              "      <td>427</td>\n",
              "      <td>laptop</td>\n",
              "      <td>198</td>\n",
              "      <td>170</td>\n",
              "      <td>290</td>\n",
              "      <td>221</td>\n",
              "    </tr>\n",
              "    <tr>\n",
              "      <th>3</th>\n",
              "      <td>000000298197.jpg</td>\n",
              "      <td>298197</td>\n",
              "      <td>481</td>\n",
              "      <td>640</td>\n",
              "      <td>laptop</td>\n",
              "      <td>123</td>\n",
              "      <td>359</td>\n",
              "      <td>454</td>\n",
              "      <td>484</td>\n",
              "    </tr>\n",
              "    <tr>\n",
              "      <th>4</th>\n",
              "      <td>000000540926.jpg</td>\n",
              "      <td>540926</td>\n",
              "      <td>427</td>\n",
              "      <td>640</td>\n",
              "      <td>laptop</td>\n",
              "      <td>56</td>\n",
              "      <td>213</td>\n",
              "      <td>426</td>\n",
              "      <td>468</td>\n",
              "    </tr>\n",
              "  </tbody>\n",
              "</table>\n",
              "</div>"
            ],
            "text/plain": [
              "           filename     idx  width  height   class  xmin  ymin  xmax  ymax\n",
              "0  000000092173.jpg   92173    640     478  laptop    45   144   209   281\n",
              "1  000000441415.jpg  441415    640     480  laptop   388   252   447   275\n",
              "2  000000150342.jpg  150342    640     427  laptop   198   170   290   221\n",
              "3  000000298197.jpg  298197    481     640  laptop   123   359   454   484\n",
              "4  000000540926.jpg  540926    427     640  laptop    56   213   426   468"
            ]
          },
          "metadata": {
            "tags": []
          },
          "execution_count": 12
        }
      ]
    },
    {
      "cell_type": "code",
      "metadata": {
        "id": "OoY8ewMuIlQJ",
        "colab_type": "code",
        "colab": {
          "base_uri": "https://localhost:8080/",
          "height": 34
        },
        "outputId": "30ca0079-849b-4023-fcdc-db0a86069112"
      },
      "source": [
        "# Make sure that the boundbox is inside the image frame\n",
        "(df_bbs.ymax == df_bbs.height).any()"
      ],
      "execution_count": null,
      "outputs": [
        {
          "output_type": "execute_result",
          "data": {
            "text/plain": [
              "False"
            ]
          },
          "metadata": {
            "tags": []
          },
          "execution_count": 13
        }
      ]
    },
    {
      "cell_type": "code",
      "metadata": {
        "id": "jkSL68dXEKFi",
        "colab_type": "code",
        "colab": {}
      },
      "source": [
        "img_folder = '/content/data/cat/'"
      ],
      "execution_count": null,
      "outputs": []
    },
    {
      "cell_type": "code",
      "metadata": {
        "id": "xEtWbSXDD101",
        "colab_type": "code",
        "colab": {
          "base_uri": "https://localhost:8080/",
          "height": 66,
          "referenced_widgets": [
            "632aa3602e114f03a02c03e8719a3ded",
            "be0d962b6abf4c3ca1486781a763a1a7",
            "40a5dc0a09d248de94dc8f61e5f204fe",
            "10266fbdd1e44bb084a32354e751362b",
            "4a07acba7084457bbb76537a9f9e45e9",
            "9413881ed8c74f249d63dad0a9d5af8d",
            "e7ba7b9772bf4339b6810656ad11885e",
            "f32ccb5e16fb405ebb505a6c4d967987"
          ]
        },
        "outputId": "2974eaa0-f97d-4ec7-d4c8-21197ac11a22"
      },
      "source": [
        "bad_imgs = [] # prepare a list for \"broken\" images\n",
        "for i in tqdm(range(df_bbs.shape[0])): # go through all the pictures\n",
        "  filename = df_bbs.filename[i] # take the name\n",
        "  img_full_path = img_folder+filename\n",
        "\n",
        "  # get the boundbox coordinates \n",
        "  xmin = df_bbs.xmin[i]\n",
        "  xmax = df_bbs.xmax[i]\n",
        "  ymin = df_bbs.ymin[i]\n",
        "  ymax = df_bbs.ymax[i]\n",
        "  try: # if the image is not broken, then crop it by boundbox and perform a resize\n",
        "    img = img_to_array(load_img(img_full_path))[ymin:ymax, xmin:xmax]\n",
        "    imageio.imsave(img_full_path, resize(img, (64,64)).astype('uint8'))\n",
        "  except: # otherwise, we remember the index of the bit image\n",
        "    bad_imgs.append(i)"
      ],
      "execution_count": null,
      "outputs": [
        {
          "output_type": "display_data",
          "data": {
            "application/vnd.jupyter.widget-view+json": {
              "model_id": "632aa3602e114f03a02c03e8719a3ded",
              "version_minor": 0,
              "version_major": 2
            },
            "text/plain": [
              "HBox(children=(FloatProgress(value=0.0, max=4970.0), HTML(value='')))"
            ]
          },
          "metadata": {
            "tags": []
          }
        },
        {
          "output_type": "stream",
          "text": [
            "\n"
          ],
          "name": "stdout"
        }
      ]
    },
    {
      "cell_type": "code",
      "metadata": {
        "id": "tAoRgknxQswd",
        "colab_type": "code",
        "colab": {}
      },
      "source": [
        "bad_imgs"
      ],
      "execution_count": null,
      "outputs": []
    },
    {
      "cell_type": "code",
      "metadata": {
        "id": "uX9G3576ycH5",
        "colab_type": "code",
        "colab": {
          "base_uri": "https://localhost:8080/",
          "height": 34
        },
        "outputId": "9df3413d-4a9c-46e5-bfbd-33746345fa3d"
      },
      "source": [
        "len(bad_imgs)"
      ],
      "execution_count": null,
      "outputs": [
        {
          "output_type": "execute_result",
          "data": {
            "text/plain": [
              "1421"
            ]
          },
          "metadata": {
            "tags": []
          },
          "execution_count": 17
        }
      ]
    },
    {
      "cell_type": "code",
      "metadata": {
        "id": "QTsDamCaQwZ7",
        "colab_type": "code",
        "colab": {}
      },
      "source": [
        "df_bbs.drop(index=bad_imgs, inplace=True) # deleting rows with broken images from the table"
      ],
      "execution_count": null,
      "outputs": []
    },
    {
      "cell_type": "code",
      "metadata": {
        "id": "fCZVZLanQ0yU",
        "colab_type": "code",
        "colab": {}
      },
      "source": [
        "df_desc = pd.read_csv('/content/data/cat_ann/ann_description_train2017.csv', index_col=0)"
      ],
      "execution_count": null,
      "outputs": []
    },
    {
      "cell_type": "code",
      "metadata": {
        "id": "s3chwi7MRQXM",
        "colab_type": "code",
        "colab": {
          "base_uri": "https://localhost:8080/",
          "height": 402
        },
        "outputId": "2061f270-3d78-43f5-96d5-5dffea075083"
      },
      "source": [
        "df_desc"
      ],
      "execution_count": null,
      "outputs": [
        {
          "output_type": "execute_result",
          "data": {
            "text/html": [
              "<div>\n",
              "<style scoped>\n",
              "    .dataframe tbody tr th:only-of-type {\n",
              "        vertical-align: middle;\n",
              "    }\n",
              "\n",
              "    .dataframe tbody tr th {\n",
              "        vertical-align: top;\n",
              "    }\n",
              "\n",
              "    .dataframe thead th {\n",
              "        text-align: right;\n",
              "    }\n",
              "</style>\n",
              "<table border=\"1\" class=\"dataframe\">\n",
              "  <thead>\n",
              "    <tr style=\"text-align: right;\">\n",
              "      <th></th>\n",
              "      <th>idx</th>\n",
              "      <th>description</th>\n",
              "    </tr>\n",
              "  </thead>\n",
              "  <tbody>\n",
              "    <tr>\n",
              "      <th>0</th>\n",
              "      <td>79472</td>\n",
              "      <td>Office space with office equipment on desk top.</td>\n",
              "    </tr>\n",
              "    <tr>\n",
              "      <th>1</th>\n",
              "      <td>79472</td>\n",
              "      <td>A hope office setup of computers and printers.</td>\n",
              "    </tr>\n",
              "    <tr>\n",
              "      <th>2</th>\n",
              "      <td>79472</td>\n",
              "      <td>a home office with laptop, printer, scanner, a...</td>\n",
              "    </tr>\n",
              "    <tr>\n",
              "      <th>3</th>\n",
              "      <td>79472</td>\n",
              "      <td>The computer desk in the corner is by a window.</td>\n",
              "    </tr>\n",
              "    <tr>\n",
              "      <th>4</th>\n",
              "      <td>493753</td>\n",
              "      <td>An office desk holding multiple computers and ...</td>\n",
              "    </tr>\n",
              "    <tr>\n",
              "      <th>...</th>\n",
              "      <td>...</td>\n",
              "      <td>...</td>\n",
              "    </tr>\n",
              "    <tr>\n",
              "      <th>17619</th>\n",
              "      <td>174896</td>\n",
              "      <td>A computer is sitting on a table near a bunch ...</td>\n",
              "    </tr>\n",
              "    <tr>\n",
              "      <th>17620</th>\n",
              "      <td>174896</td>\n",
              "      <td>A table with someone's lunch with wine and a l...</td>\n",
              "    </tr>\n",
              "    <tr>\n",
              "      <th>17621</th>\n",
              "      <td>312398</td>\n",
              "      <td>A couple of men having conversation at a dinin...</td>\n",
              "    </tr>\n",
              "    <tr>\n",
              "      <th>17622</th>\n",
              "      <td>137552</td>\n",
              "      <td>A bouquet of roses sits on the desk next to th...</td>\n",
              "    </tr>\n",
              "    <tr>\n",
              "      <th>17623</th>\n",
              "      <td>27109</td>\n",
              "      <td>This is a kid looking through a refrigerator.</td>\n",
              "    </tr>\n",
              "  </tbody>\n",
              "</table>\n",
              "<p>17624 rows × 2 columns</p>\n",
              "</div>"
            ],
            "text/plain": [
              "          idx                                        description\n",
              "0       79472    Office space with office equipment on desk top.\n",
              "1       79472     A hope office setup of computers and printers.\n",
              "2       79472  a home office with laptop, printer, scanner, a...\n",
              "3       79472    The computer desk in the corner is by a window.\n",
              "4      493753  An office desk holding multiple computers and ...\n",
              "...       ...                                                ...\n",
              "17619  174896  A computer is sitting on a table near a bunch ...\n",
              "17620  174896  A table with someone's lunch with wine and a l...\n",
              "17621  312398  A couple of men having conversation at a dinin...\n",
              "17622  137552  A bouquet of roses sits on the desk next to th...\n",
              "17623   27109      This is a kid looking through a refrigerator.\n",
              "\n",
              "[17624 rows x 2 columns]"
            ]
          },
          "metadata": {
            "tags": []
          },
          "execution_count": 20
        }
      ]
    },
    {
      "cell_type": "code",
      "metadata": {
        "id": "F7_a4y_ZRRnB",
        "colab_type": "code",
        "colab": {}
      },
      "source": [
        "data = df_bbs.merge(df_desc, on='idx') # combining tables with information on the image and information on the description"
      ],
      "execution_count": null,
      "outputs": []
    },
    {
      "cell_type": "code",
      "metadata": {
        "id": "MN5umS5ATiMA",
        "colab_type": "code",
        "colab": {
          "base_uri": "https://localhost:8080/",
          "height": 343
        },
        "outputId": "d76b5ea6-cba5-4f27-cdab-86a0417ab1c5"
      },
      "source": [
        "data.head(10)"
      ],
      "execution_count": null,
      "outputs": [
        {
          "output_type": "execute_result",
          "data": {
            "text/html": [
              "<div>\n",
              "<style scoped>\n",
              "    .dataframe tbody tr th:only-of-type {\n",
              "        vertical-align: middle;\n",
              "    }\n",
              "\n",
              "    .dataframe tbody tr th {\n",
              "        vertical-align: top;\n",
              "    }\n",
              "\n",
              "    .dataframe thead th {\n",
              "        text-align: right;\n",
              "    }\n",
              "</style>\n",
              "<table border=\"1\" class=\"dataframe\">\n",
              "  <thead>\n",
              "    <tr style=\"text-align: right;\">\n",
              "      <th></th>\n",
              "      <th>filename</th>\n",
              "      <th>idx</th>\n",
              "      <th>width</th>\n",
              "      <th>height</th>\n",
              "      <th>class</th>\n",
              "      <th>xmin</th>\n",
              "      <th>ymin</th>\n",
              "      <th>xmax</th>\n",
              "      <th>ymax</th>\n",
              "      <th>description</th>\n",
              "    </tr>\n",
              "  </thead>\n",
              "  <tbody>\n",
              "    <tr>\n",
              "      <th>0</th>\n",
              "      <td>000000092173.jpg</td>\n",
              "      <td>92173</td>\n",
              "      <td>640</td>\n",
              "      <td>478</td>\n",
              "      <td>laptop</td>\n",
              "      <td>45</td>\n",
              "      <td>144</td>\n",
              "      <td>209</td>\n",
              "      <td>281</td>\n",
              "      <td>A black and white cat laying on top of a desk.</td>\n",
              "    </tr>\n",
              "    <tr>\n",
              "      <th>1</th>\n",
              "      <td>000000092173.jpg</td>\n",
              "      <td>92173</td>\n",
              "      <td>640</td>\n",
              "      <td>478</td>\n",
              "      <td>laptop</td>\n",
              "      <td>45</td>\n",
              "      <td>144</td>\n",
              "      <td>209</td>\n",
              "      <td>281</td>\n",
              "      <td>THERE IS A CAT THAT IS LYING DOWN</td>\n",
              "    </tr>\n",
              "    <tr>\n",
              "      <th>2</th>\n",
              "      <td>000000092173.jpg</td>\n",
              "      <td>92173</td>\n",
              "      <td>640</td>\n",
              "      <td>478</td>\n",
              "      <td>laptop</td>\n",
              "      <td>45</td>\n",
              "      <td>144</td>\n",
              "      <td>209</td>\n",
              "      <td>281</td>\n",
              "      <td>there is a cat laying on a pillow on top of a ...</td>\n",
              "    </tr>\n",
              "    <tr>\n",
              "      <th>3</th>\n",
              "      <td>000000092173.jpg</td>\n",
              "      <td>92173</td>\n",
              "      <td>640</td>\n",
              "      <td>478</td>\n",
              "      <td>laptop</td>\n",
              "      <td>45</td>\n",
              "      <td>144</td>\n",
              "      <td>209</td>\n",
              "      <td>281</td>\n",
              "      <td>a cat lying on a green piece of material on a ...</td>\n",
              "    </tr>\n",
              "    <tr>\n",
              "      <th>4</th>\n",
              "      <td>000000092173.jpg</td>\n",
              "      <td>92173</td>\n",
              "      <td>640</td>\n",
              "      <td>478</td>\n",
              "      <td>laptop</td>\n",
              "      <td>45</td>\n",
              "      <td>144</td>\n",
              "      <td>209</td>\n",
              "      <td>281</td>\n",
              "      <td>A black and white cat laying on the carrying c...</td>\n",
              "    </tr>\n",
              "    <tr>\n",
              "      <th>5</th>\n",
              "      <td>000000441415.jpg</td>\n",
              "      <td>441415</td>\n",
              "      <td>640</td>\n",
              "      <td>480</td>\n",
              "      <td>laptop</td>\n",
              "      <td>388</td>\n",
              "      <td>252</td>\n",
              "      <td>447</td>\n",
              "      <td>275</td>\n",
              "      <td>A wooden table sitting under a picture with wo...</td>\n",
              "    </tr>\n",
              "    <tr>\n",
              "      <th>6</th>\n",
              "      <td>000000441415.jpg</td>\n",
              "      <td>441415</td>\n",
              "      <td>640</td>\n",
              "      <td>480</td>\n",
              "      <td>laptop</td>\n",
              "      <td>388</td>\n",
              "      <td>252</td>\n",
              "      <td>447</td>\n",
              "      <td>275</td>\n",
              "      <td>A room with a very small dining table and chairs.</td>\n",
              "    </tr>\n",
              "    <tr>\n",
              "      <th>7</th>\n",
              "      <td>000000441415.jpg</td>\n",
              "      <td>441415</td>\n",
              "      <td>640</td>\n",
              "      <td>480</td>\n",
              "      <td>laptop</td>\n",
              "      <td>388</td>\n",
              "      <td>252</td>\n",
              "      <td>447</td>\n",
              "      <td>275</td>\n",
              "      <td>\\nAn empty table that is set up for dining.</td>\n",
              "    </tr>\n",
              "    <tr>\n",
              "      <th>8</th>\n",
              "      <td>000000441415.jpg</td>\n",
              "      <td>441415</td>\n",
              "      <td>640</td>\n",
              "      <td>480</td>\n",
              "      <td>laptop</td>\n",
              "      <td>388</td>\n",
              "      <td>252</td>\n",
              "      <td>447</td>\n",
              "      <td>275</td>\n",
              "      <td>A table and some chairs in a room.</td>\n",
              "    </tr>\n",
              "    <tr>\n",
              "      <th>9</th>\n",
              "      <td>000000441415.jpg</td>\n",
              "      <td>441415</td>\n",
              "      <td>640</td>\n",
              "      <td>480</td>\n",
              "      <td>laptop</td>\n",
              "      <td>388</td>\n",
              "      <td>252</td>\n",
              "      <td>447</td>\n",
              "      <td>275</td>\n",
              "      <td>There is two laptops on the table and bag on o...</td>\n",
              "    </tr>\n",
              "  </tbody>\n",
              "</table>\n",
              "</div>"
            ],
            "text/plain": [
              "           filename  ...                                        description\n",
              "0  000000092173.jpg  ...     A black and white cat laying on top of a desk.\n",
              "1  000000092173.jpg  ...                 THERE IS A CAT THAT IS LYING DOWN \n",
              "2  000000092173.jpg  ...  there is a cat laying on a pillow on top of a ...\n",
              "3  000000092173.jpg  ...  a cat lying on a green piece of material on a ...\n",
              "4  000000092173.jpg  ...  A black and white cat laying on the carrying c...\n",
              "5  000000441415.jpg  ...  A wooden table sitting under a picture with wo...\n",
              "6  000000441415.jpg  ...  A room with a very small dining table and chairs.\n",
              "7  000000441415.jpg  ...        \\nAn empty table that is set up for dining.\n",
              "8  000000441415.jpg  ...                 A table and some chairs in a room.\n",
              "9  000000441415.jpg  ...  There is two laptops on the table and bag on o...\n",
              "\n",
              "[10 rows x 10 columns]"
            ]
          },
          "metadata": {
            "tags": []
          },
          "execution_count": 22
        }
      ]
    },
    {
      "cell_type": "code",
      "metadata": {
        "id": "0FdHuZjvSCcf",
        "colab_type": "code",
        "colab": {
          "base_uri": "https://localhost:8080/",
          "height": 34
        },
        "outputId": "3341ab07-e4c7-4474-9866-2cc325cd064f"
      },
      "source": [
        "len(data)"
      ],
      "execution_count": null,
      "outputs": [
        {
          "output_type": "execute_result",
          "data": {
            "text/plain": [
              "17749"
            ]
          },
          "metadata": {
            "tags": []
          },
          "execution_count": 23
        }
      ]
    },
    {
      "cell_type": "code",
      "metadata": {
        "id": "zVUXyDqtTmH-",
        "colab_type": "code",
        "colab": {}
      },
      "source": [
        "image_size = 64\n",
        "\n",
        "X_train = np.zeros((data.shape[0], image_size, image_size, 3), dtype='uint8') # preparing an array of images: Batch X height X width X channels\n",
        "for i, filename in enumerate(data.filename): # go through all the images\n",
        "  X_train[i]=img_to_array(load_img(img_folder+filename)).astype('uint8') # saving the next image"
      ],
      "execution_count": null,
      "outputs": []
    },
    {
      "cell_type": "code",
      "metadata": {
        "id": "GtCN9iZNUK0V",
        "colab_type": "code",
        "colab": {
          "base_uri": "https://localhost:8080/",
          "height": 285
        },
        "outputId": "2c9b8199-b8d2-484f-8d31-6b32d74a1f5a"
      },
      "source": [
        "plt.imshow(X_train[20])"
      ],
      "execution_count": null,
      "outputs": [
        {
          "output_type": "execute_result",
          "data": {
            "text/plain": [
              "<matplotlib.image.AxesImage at 0x7ff44fdbea58>"
            ]
          },
          "metadata": {
            "tags": []
          },
          "execution_count": 28
        },
        {
          "output_type": "display_data",
          "data": {
            "image/png": "[encoded data removed]",
            "text/plain": [
              "<Figure size 432x288 with 1 Axes>"
            ]
          },
          "metadata": {
            "tags": [],
            "needs_background": "light"
          }
        }
      ]
    },
    {
      "cell_type": "code",
      "metadata": {
        "id": "gr9l-Ine9j-o",
        "colab_type": "code",
        "colab": {}
      },
      "source": [
        "wiki = hub.load(\"https://tfhub.dev/google/Wiki-words-250/2\") # downloading the language model"
      ],
      "execution_count": null,
      "outputs": []
    },
    {
      "cell_type": "code",
      "metadata": {
        "id": "-egZHfUIAbnq",
        "colab_type": "code",
        "colab": {}
      },
      "source": [
        "embeddings = wiki(data.description) # get a set of embeddings descriptions of the image"
      ],
      "execution_count": null,
      "outputs": []
    },
    {
      "cell_type": "code",
      "metadata": {
        "id": "8nM7rB42B_u7",
        "colab_type": "code",
        "colab": {
          "base_uri": "https://localhost:8080/",
          "height": 252
        },
        "outputId": "3fd57454-af0d-4baf-ec9d-3f02b04b5c7a"
      },
      "source": [
        "embeddings"
      ],
      "execution_count": null,
      "outputs": [
        {
          "output_type": "execute_result",
          "data": {
            "text/plain": [
              "<tf.Tensor: shape=(17749, 250), dtype=float32, numpy=\n",
              "array([[-0.07708009, -0.22240314, -0.0360272 , ..., -0.06858585,\n",
              "         0.06041828, -0.0144395 ],\n",
              "       [ 0.04019657, -0.14249563,  0.09882458, ...,  0.04973515,\n",
              "         0.10820542, -0.11408751],\n",
              "       [-0.09293577, -0.26933593,  0.03780282, ..., -0.07778566,\n",
              "         0.00845432, -0.02646738],\n",
              "       ...,\n",
              "       [-0.11118564, -0.18998542, -0.02178879, ..., -0.03083483,\n",
              "         0.13685887, -0.01456234],\n",
              "       [-0.05420443, -0.15994929, -0.06692348, ..., -0.03221947,\n",
              "         0.07927821, -0.02041932],\n",
              "       [-0.08674592, -0.27133563,  0.05818712, ...,  0.01322102,\n",
              "         0.06286572, -0.02545526]], dtype=float32)>"
            ]
          },
          "metadata": {
            "tags": []
          },
          "execution_count": 31
        }
      ]
    },
    {
      "cell_type": "markdown",
      "metadata": {
        "id": "P-z5wvJ1YkPC",
        "colab_type": "text"
      },
      "source": [
        "# Modelling"
      ]
    },
    {
      "cell_type": "code",
      "metadata": {
        "id": "XREyixGFxMgQ",
        "colab_type": "code",
        "colab": {}
      },
      "source": [
        "def generate_c(x): # reparametrisation trick\n",
        "    mean = x[:, :128]\n",
        "    log_sigma = x[:, 128:]\n",
        "    stddev = K.exp(log_sigma)\n",
        "    epsilon = K.random_normal(shape=K.constant((mean.shape[1],), dtype='int32'))\n",
        "    c = stddev * epsilon + mean\n",
        "    return c\n",
        "  \n",
        "  \n",
        "def build_embedding_compressor_model(): # embedding compression\n",
        "    input_layer = Input(shape=(embeddings.shape[1],))\n",
        "    x = Dense(128)(input_layer)\n",
        "    x = ReLU()(x)\n",
        "\n",
        "    model = Model(inputs=[input_layer], outputs=[x])\n",
        "    return model\n",
        "  \n",
        "def build_stage1_generator(): # generator on stage 1\n",
        "    input_layer = Input(shape=(embeddings.shape[1],))\n",
        "    x = Dense(256)(input_layer)\n",
        "    mean_logsigma = LeakyReLU(alpha=0.2)(x)\n",
        "\n",
        "    c = Lambda(generate_c)(mean_logsigma)\n",
        "\n",
        "    input_layer2 = Input(shape=(100,))\n",
        "\n",
        "    gen_input = Concatenate(axis=1)([c, input_layer2])\n",
        "\n",
        "    x = Dense(128 * 8 * 4 * 4, use_bias=False)(gen_input)\n",
        "    x = ReLU()(x)\n",
        "\n",
        "    x = Reshape((4, 4, 128 * 8), input_shape=(128 * 8 * 4 * 4,))(x)\n",
        "\n",
        "    x = UpSampling2D(size=(2, 2))(x)\n",
        "    x = Conv2D(512, kernel_size=3, padding=\"same\", strides=1, use_bias=False)(x)\n",
        "    x = BatchNormalization()(x)\n",
        "    x = ReLU()(x)\n",
        "\n",
        "    x = UpSampling2D(size=(2, 2))(x)\n",
        "    x = Conv2D(256, kernel_size=3, padding=\"same\", strides=1, use_bias=False)(x)\n",
        "    x = BatchNormalization()(x)\n",
        "    x = ReLU()(x)\n",
        "\n",
        "    x = UpSampling2D(size=(2, 2))(x)\n",
        "    x = Conv2D(128, kernel_size=3, padding=\"same\", strides=1, use_bias=False)(x)\n",
        "    x = BatchNormalization()(x)\n",
        "    x = ReLU()(x)\n",
        "\n",
        "    x = UpSampling2D(size=(2, 2))(x)\n",
        "    x = Conv2D(64, kernel_size=3, padding=\"same\", strides=1, use_bias=False)(x)\n",
        "    x = BatchNormalization()(x)\n",
        "    x = ReLU()(x)\n",
        "\n",
        "    x = Conv2D(3, kernel_size=3, padding=\"same\", strides=1, use_bias=False)(x)\n",
        "    x = Activation(activation='tanh')(x)\n",
        "\n",
        "    stage1_gen = Model(inputs=[input_layer, input_layer2], outputs=[x, mean_logsigma])\n",
        "    return stage1_gen\n",
        "\n",
        "def build_stage1_discriminator(): # discriminator that accepts an image and embedding an image description\n",
        "    input_layer = Input(shape=(64, 64, 3))\n",
        "\n",
        "    x = Conv2D(64, (4, 4),\n",
        "               padding='same', strides=2,\n",
        "               input_shape=(64, 64, 3), use_bias=False)(input_layer)\n",
        "    x = LeakyReLU(alpha=0.2)(x)\n",
        "\n",
        "    x = Conv2D(128, (4, 4), padding='same', strides=2, use_bias=False)(x)\n",
        "    x = BatchNormalization()(x)\n",
        "    x = LeakyReLU(alpha=0.2)(x)\n",
        "\n",
        "    x = Conv2D(256, (4, 4), padding='same', strides=2, use_bias=False)(x)\n",
        "    x = BatchNormalization()(x)\n",
        "    x = LeakyReLU(alpha=0.2)(x)\n",
        "\n",
        "    x = Conv2D(512, (4, 4), padding='same', strides=2, use_bias=False)(x)\n",
        "    x = BatchNormalization()(x)\n",
        "    x = LeakyReLU(alpha=0.2)(x)\n",
        "\n",
        "    input_layer2 = Input(shape=(4, 4, 128))\n",
        "\n",
        "    merged_input = concatenate([x, input_layer2])\n",
        "\n",
        "    x2 = Conv2D(64 * 8, kernel_size=1,\n",
        "                padding=\"same\", strides=1)(merged_input)\n",
        "    x2 = BatchNormalization()(x2)\n",
        "    x2 = LeakyReLU(alpha=0.2)(x2)\n",
        "    x2 = Flatten()(x2)\n",
        "    x2 = Dense(1)(x2)\n",
        "    x2 = Activation('sigmoid')(x2)\n",
        "\n",
        "    stage1_dis = Model(inputs=[input_layer, input_layer2], outputs=[x2])\n",
        "    return stage1_dis\n",
        "  \n",
        "def build_adversarial_model(gen_model, dis_model): # \n",
        "    input_layer = Input(shape=(embeddings.shape[1],))\n",
        "    input_layer2 = Input(shape=(100,))\n",
        "    input_layer3 = Input(shape=(4, 4, 128))\n",
        "\n",
        "    x, mean_logsigma = gen_model([input_layer, input_layer2])\n",
        "\n",
        "    dis_model.trainable = False\n",
        "    valid = dis_model([x, input_layer3])\n",
        "\n",
        "    model = Model(inputs=[input_layer, input_layer2, input_layer3], outputs=[valid, mean_logsigma])\n",
        "    return model"
      ],
      "execution_count": null,
      "outputs": []
    },
    {
      "cell_type": "code",
      "metadata": {
        "id": "OwSPelqbxPcT",
        "colab_type": "code",
        "colab": {}
      },
      "source": [
        "def KL_loss(y_true, y_pred): #  Kullback-Leibler Distance\n",
        "    mean = y_pred[:, :128]\n",
        "    logsigma = y_pred[:, :128]\n",
        "    loss = -logsigma + .5 * (-1 + K.exp(2. * logsigma) + K.square(mean))\n",
        "    loss = K.mean(loss)\n",
        "    return loss\n",
        "    \n",
        "\n",
        "def custom_generator_loss(y_true, y_pred):\n",
        "    # Calculate binary cross entropy loss\n",
        "    return K.binary_crossentropy(y_true, y_pred)"
      ],
      "execution_count": null,
      "outputs": []
    },
    {
      "cell_type": "code",
      "metadata": {
        "id": "U7AYAvnbxTee",
        "colab_type": "code",
        "colab": {}
      },
      "source": [
        "def save_rgb_img(img, path): # save the image by the path\n",
        "    fig = plt.figure()\n",
        "    ax = fig.add_subplot(1, 1, 1)\n",
        "    ax.imshow(img)\n",
        "    ax.axis(\"off\")\n",
        "    ax.set_title(\"Image\")\n",
        "\n",
        "    plt.savefig(path)\n",
        "    plt.close()"
      ],
      "execution_count": null,
      "outputs": []
    },
    {
      "cell_type": "markdown",
      "metadata": {
        "id": "GKTpqF3OVypP",
        "colab_type": "text"
      },
      "source": [
        "# Training"
      ]
    },
    {
      "cell_type": "code",
      "metadata": {
        "id": "WBAjLPmWW1ZR",
        "colab_type": "code",
        "colab": {}
      },
      "source": [
        "# hyperparameters\n",
        "data_dir = \"/content/cat/\"\n",
        "batch_size = 64\n",
        "z_dim = 100\n",
        "stage1_generator_lr = 0.0002\n",
        "stage1_discriminator_lr = 0.0002\n",
        "stage1_lr_decay_step = 600\n",
        "epochs = 705\n",
        "condition_dim = 128\n",
        "path = \"/content/drive/My Drive/Базы/NLP/Laptop/results/\""
      ],
      "execution_count": null,
      "outputs": []
    },
    {
      "cell_type": "code",
      "metadata": {
        "id": "ZuJMIBLrxXV4",
        "colab_type": "code",
        "colab": {}
      },
      "source": [
        "# creating optimizers\n",
        "dis_optimizer = Adam(lr=stage1_discriminator_lr, beta_1=0.5, beta_2=0.999)\n",
        "gen_optimizer = Adam(lr=stage1_generator_lr, beta_1=0.5, beta_2=0.999)\n",
        "\n",
        "\n",
        "\n",
        "stage1_dis = build_stage1_discriminator()\n",
        "stage1_dis.compile(loss='binary_crossentropy', optimizer=dis_optimizer)\n",
        "\n",
        "stage1_gen = build_stage1_generator()\n",
        "stage1_gen.compile(loss=\"mse\", optimizer=gen_optimizer)\n",
        "\n",
        "embedding_compressor_model = build_embedding_compressor_model()\n",
        "embedding_compressor_model.compile(loss=\"binary_crossentropy\", optimizer=\"adam\")\n",
        "\n",
        "adversarial_model = build_adversarial_model(gen_model=stage1_gen, dis_model=stage1_dis)\n",
        "adversarial_model.compile(loss=['binary_crossentropy', KL_loss], loss_weights=[1, 2.0],\n",
        "                          optimizer=gen_optimizer, metrics=None)\n",
        "\n",
        "\n",
        "# creating labels for training\n",
        "# label smoothing\n",
        "real_labels = np.ones((batch_size, 1), dtype=float) * 0.9\n",
        "fake_labels = np.zeros((batch_size, 1), dtype=float) + 0.1"
      ],
      "execution_count": null,
      "outputs": []
    },
    {
      "cell_type": "code",
      "metadata": {
        "id": "KdBUdtUJyVvm",
        "colab_type": "code",
        "colab": {}
      },
      "source": [
        "Z_NOISE = np.random.normal(0, 1, size=(10, z_dim)) # constant noise vector for tracking progress\n",
        "os.makedirs('results', exist_ok='True')\n",
        "\n",
        "for epoch in range(epochs):\n",
        "    print(\"========================================\")\n",
        "    print(\"Epoch is:\", epoch)\n",
        "    print(\"Number of batches\", int(data.shape[0] / batch_size))\n",
        "\n",
        "    gen_losses = []\n",
        "    dis_losses = []\n",
        "\n",
        "\n",
        "    number_of_batches = int(data.shape[0] / batch_size)\n",
        "    for index in range(number_of_batches):\n",
        "        print(\"Batch:{}\".format(index+1))\n",
        "        \n",
        "        # Create a noise vector\n",
        "        z_noise = np.random.normal(0, 1, size=(batch_size, z_dim))\n",
        "        image_batch = X_train[index * batch_size:(index + 1) * batch_size]\n",
        "        embedding_batch = embeddings[index * batch_size:(index + 1) * batch_size]\n",
        "        image_batch = (image_batch - 127.5) / 127.5\n",
        "\n",
        "        # Generate fake images\n",
        "        fake_images, _ = stage1_gen.predict([embedding_batch, z_noise], verbose=3)\n",
        "\n",
        "        # Generate compressed embeddings \n",
        "        compressed_embedding = embedding_compressor_model.predict_on_batch(embedding_batch)\n",
        "        compressed_embedding = np.reshape(compressed_embedding, (-1, 1, 1, condition_dim))\n",
        "        compressed_embedding = np.tile(compressed_embedding, (1, 4, 4, 1))\n",
        "\n",
        "        # Train the discriminator model\n",
        "        dis_loss_real = stage1_dis.train_on_batch([image_batch, compressed_embedding],\n",
        "                                                  np.reshape(real_labels, (batch_size, 1)))\n",
        "        dis_loss_fake = stage1_dis.train_on_batch([fake_images, compressed_embedding],\n",
        "                                                  np.reshape(fake_labels, (batch_size, 1)))\n",
        "        dis_loss_wrong = stage1_dis.train_on_batch([image_batch[:(batch_size - 1)], compressed_embedding[1:]],\n",
        "                                                    np.reshape(fake_labels[1:], (batch_size-1, 1)))\n",
        "\n",
        "        d_loss = 0.5 * np.add(dis_loss_real, 0.5 * np.add(dis_loss_wrong, dis_loss_fake))\n",
        "\n",
        "        print(\"d_loss_real:{}\".format(dis_loss_real))\n",
        "        print(\"d_loss_fake:{}\".format(dis_loss_fake))\n",
        "        print(\"d_loss_wrong:{}\".format(dis_loss_wrong))\n",
        "        print(\"d_loss:{}\".format(d_loss))\n",
        "\n",
        "        # Train the adversarial model\n",
        "        g_loss = adversarial_model.train_on_batch([embedding_batch, z_noise, compressed_embedding],[K.ones((batch_size, 1)) * 0.9, K.ones((batch_size, 256)) * 0.9])\n",
        "        print(\"g_loss:{}\".format(g_loss))\n",
        "\n",
        "        dis_losses.append(d_loss)\n",
        "        gen_losses.append(g_loss)\n",
        "\n",
        "    # Saving the models\n",
        "    if epoch % 20 == 0:\n",
        "      stage1_gen.save_weights(path+\"stage1_gen.h5\")\n",
        "      stage1_dis.save_weights(path+\"stage1_dis.h5\")\n",
        "\n",
        "    \n",
        "    # Generate and save images after every 2nd epoch\n",
        "    if epoch % 2 == 0:\n",
        "        \n",
        "        embedding_batch = embeddings[-10:]\n",
        "        fake_images, _ = stage1_gen.predict_on_batch([embedding_batch, Z_NOISE])\n",
        "\n",
        "        # Save images\n",
        "        for i, img in enumerate(fake_images):\n",
        "            save_rgb_img(img, path+\"results/gen_{}_{}.png\".format(epoch, i))\n",
        "\n",
        "# Saving the models\n",
        "stage1_gen.save_weights(path+\"stage1_gen.h5\")\n",
        "stage1_dis.save_weights(path+\"stage1_dis.h5\")"
      ],
      "execution_count": null,
      "outputs": []
    },
    {
      "cell_type": "code",
      "metadata": {
        "id": "IKnjpWVIui_9",
        "colab_type": "code",
        "colab": {
          "base_uri": "https://localhost:8080/",
          "height": 291
        },
        "outputId": "80bcbcbf-dfcb-4d4a-9237-752cc4066db4"
      },
      "source": [
        "image = np.array(Image.open(path+'results/gen_0_0.png'), dtype=np.uint8)\n",
        "plt.figure(figsize=(7,7))\n",
        "plt.axis(\"off\")\n",
        "plt.imshow(image)\n",
        "plt.show()"
      ],
      "execution_count": null,
      "outputs": [
        {
          "output_type": "display_data",
          "data": {
            "image/png": "[encoded data removed]",
            "text/plain": [
              "<Figure size 504x504 with 1 Axes>"
            ]
          },
          "metadata": {
            "tags": [],
            "needs_background": "light"
          }
        }
      ]
    },
    {
      "cell_type": "code",
      "metadata": {
        "id": "6b17RHxkvqXC",
        "colab_type": "code",
        "colab": {
          "base_uri": "https://localhost:8080/",
          "height": 291
        },
        "outputId": "5dd7692a-3320-4322-ad6f-b91d57b9c1e7"
      },
      "source": [
        "image = np.array(Image.open(path+'results/gen_478_9.png'), dtype=np.uint8)\n",
        "plt.figure(figsize=(7,7))\n",
        "plt.axis(\"off\")\n",
        "plt.imshow(image)\n",
        "plt.show()"
      ],
      "execution_count": null,
      "outputs": [
        {
          "output_type": "display_data",
          "data": {
            "image/png": "[encoded data removed]",
            "text/plain": [
              "<Figure size 504x504 with 1 Axes>"
            ]
          },
          "metadata": {
            "tags": [],
            "needs_background": "light"
          }
        }
      ]
    },
    {
      "cell_type": "code",
      "metadata": {
        "id": "JHe1neZ9VV7a",
        "colab_type": "code",
        "colab": {}
      },
      "source": [
        ""
      ],
      "execution_count": null,
      "outputs": []
    }
  ]
}