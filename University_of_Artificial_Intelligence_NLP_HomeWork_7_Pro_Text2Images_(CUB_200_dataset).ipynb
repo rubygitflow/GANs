{
  "nbformat": 4,
  "nbformat_minor": 0,
  "metadata": {
    "colab": {
      "name": "University of Artificial Intelligence. NLP.HomeWork 7.Pro. Text2Images. (CUB-200 dataset)  ",
      "provenance": [],
      "collapsed_sections": [],
      "include_colab_link": true
    },
    "kernelspec": {
      "name": "python3",
      "display_name": "Python 3"
    },
    "accelerator": "GPU"
  },
  "cells": [
    {
      "cell_type": "markdown",
      "metadata": {
        "id": "view-in-github",
        "colab_type": "text"
      },
      "source": [
        "<a href=\"https://colab.research.google.com/github/rubygitflow/GANs/blob/master/University_of_Artificial_Intelligence_NLP_HomeWork_7_Pro_Text2Images_(CUB_200_dataset).ipynb\" target=\"_parent\"><img src=\"https://colab.research.google.com/assets/colab-badge.svg\" alt=\"Open In Colab\"/></a>"
      ]
    },
    {
      "cell_type": "markdown",
      "metadata": {
        "id": "0P9NkPrgjp_B",
        "colab_type": "text"
      },
      "source": [
        "# NLP.Lesson 7.1.Text2Images\n",
        "\n",
        "http://www.vision.caltech.edu/visipedia/CUB-200.html"
      ]
    },
    {
      "cell_type": "code",
      "metadata": {
        "id": "Dg7mCLuNrUb2",
        "colab_type": "code",
        "colab": {}
      },
      "source": [
        "import os\n",
        "import pickle\n",
        "import random\n",
        "import time\n",
        "\n",
        "import PIL\n",
        "import numpy as np\n",
        "import pandas as pd\n",
        "import tensorflow as tf\n",
        "from PIL import Image\n",
        "from tensorflow.keras import Input, Model\n",
        "from tensorflow.keras import backend as K\n",
        "from tensorflow.keras.callbacks import TensorBoard\n",
        "from tensorflow.keras.layers import Dense, LeakyReLU, BatchNormalization, ReLU, Reshape, UpSampling2D, Conv2D, Activation, \\\n",
        "    concatenate, Flatten, Lambda, Concatenate\n",
        "from tensorflow.keras.optimizers import Adam\n",
        "from matplotlib import pyplot as plt"
      ],
      "execution_count": null,
      "outputs": []
    },
    {
      "cell_type": "markdown",
      "metadata": {
        "id": "DtGbK4PcYIQP",
        "colab_type": "text"
      },
      "source": [
        "## Checking the GPU"
      ]
    },
    {
      "cell_type": "code",
      "metadata": {
        "id": "OoZrMxlU_dAV",
        "colab_type": "code",
        "colab": {
          "base_uri": "https://localhost:8080/",
          "height": 272
        },
        "outputId": "2161a5ee-df86-40ad-d82c-d0a04f1e0e66"
      },
      "source": [
        "!ln -sf /opt/bin/nvidia-smi /usr/bin/nvidia-smi\n",
        "!pip install gputil\n",
        "!pip install psutil\n",
        "!pip install humanize\n",
        "\n",
        "import os\n",
        "import psutil\n",
        "import humanize\n",
        "import GPUtil as GPU\n",
        "GPUs = GPU.getGPUs()\n",
        "if len(GPUs)>0:\n",
        "  gpu = GPUs[0]\n",
        "else:\n",
        "  print('GPU turned off')\n",
        "def printm():\n",
        "  process = psutil.Process(os.getpid())\n",
        "  print(\"Gen RAM FREE: \"+humanize.naturalsize( psutil.virtual_memory().available ), \" | Proc size: \" + humanize.naturalsize( process.memory_info().rss))\n",
        "  if len(GPUs)>0:\n",
        "    print(\"Gen RAM FREE: {0:.0f}MB | Used: {1:.0f}MB | Util {2:3.0f}% | Total {3:.0f}MB\".format(gpu.memoryFree, gpu.memoryUsed, gpu.memoryUtil*100, gpu.memoryTotal))\n",
        "    print(\"GPU Model: \" + gpu.name)\n",
        "\n",
        "printm()"
      ],
      "execution_count": null,
      "outputs": [
        {
          "output_type": "stream",
          "text": [
            "Collecting gputil\n",
            "  Downloading https://files.pythonhosted.org/packages/ed/0e/5c61eedde9f6c87713e89d794f01e378cfd9565847d4576fa627d758c554/GPUtil-1.4.0.tar.gz\n",
            "Building wheels for collected packages: gputil\n",
            "  Building wheel for gputil (setup.py) ... \u001b[?25l\u001b[?25hdone\n",
            "  Created wheel for gputil: filename=GPUtil-1.4.0-cp36-none-any.whl size=7411 sha256=0533a3551dfe59502aec78a458d76b80aec4fb0e4b8c81491149ae284d5c4088\n",
            "  Stored in directory: /root/.cache/pip/wheels/3d/77/07/80562de4bb0786e5ea186911a2c831fdd0018bda69beab71fd\n",
            "Successfully built gputil\n",
            "Installing collected packages: gputil\n",
            "Successfully installed gputil-1.4.0\n",
            "Requirement already satisfied: psutil in /usr/local/lib/python3.6/dist-packages (5.4.8)\n",
            "Requirement already satisfied: humanize in /usr/local/lib/python3.6/dist-packages (0.5.1)\n",
            "Gen RAM FREE: 12.7 GB  | Proc size: 342.9 MB\n",
            "Gen RAM FREE: 15079MB | Used: 0MB | Util   0% | Total 15079MB\n",
            "GPU Model: Tesla T4\n"
          ],
          "name": "stdout"
        }
      ]
    },
    {
      "cell_type": "markdown",
      "metadata": {
        "id": "PCGRjxTWyG7c",
        "colab_type": "text"
      },
      "source": [
        "#Готовим данные"
      ]
    },
    {
      "cell_type": "code",
      "metadata": {
        "id": "hN__L5tLrpAK",
        "colab_type": "code",
        "colab": {
          "base_uri": "https://localhost:8080/",
          "height": 34
        },
        "outputId": "d56e8cd6-847c-473f-b710-a9c8c9c5290e"
      },
      "source": [
        "from google.colab import drive\n",
        "drive.mount('/content/drive')"
      ],
      "execution_count": null,
      "outputs": [
        {
          "output_type": "stream",
          "text": [
            "Mounted at /content/drive\n"
          ],
          "name": "stdout"
        }
      ]
    },
    {
      "cell_type": "code",
      "metadata": {
        "id": "Z2CNZmvIsJbf",
        "colab_type": "code",
        "colab": {}
      },
      "source": [
        "!cp /content/drive/My\\ Drive/Базы/NLP/birds.zip -d /content/birds.zip"
      ],
      "execution_count": null,
      "outputs": []
    },
    {
      "cell_type": "code",
      "metadata": {
        "id": "XyZgKHrAuzNY",
        "colab_type": "code",
        "colab": {}
      },
      "source": [
        "!unzip birds.zip"
      ],
      "execution_count": null,
      "outputs": []
    },
    {
      "cell_type": "code",
      "metadata": {
        "id": "J5xob3KkvImO",
        "colab_type": "code",
        "colab": {}
      },
      "source": [
        "!mkdir results"
      ],
      "execution_count": null,
      "outputs": []
    },
    {
      "cell_type": "code",
      "metadata": {
        "id": "7WHYQdwmscRP",
        "colab_type": "code",
        "colab": {
          "base_uri": "https://localhost:8080/",
          "height": 286
        },
        "outputId": "3cddaf3b-911e-4484-de09-ebe17244d433"
      },
      "source": [
        "# !wget http://www.vision.caltech.edu/visipedia-data/CUB-200-2011/CUB_200_2011.tgz"
      ],
      "execution_count": null,
      "outputs": [
        {
          "output_type": "stream",
          "text": [
            "--2020-09-20 01:10:37--  http://www.vision.caltech.edu/visipedia-data/CUB-200-2011/CUB_200_2011.tgz\n",
            "Resolving www.vision.caltech.edu (www.vision.caltech.edu)... 34.208.54.77\n",
            "Connecting to www.vision.caltech.edu (www.vision.caltech.edu)|34.208.54.77|:80... connected.\n",
            "HTTP request sent, awaiting response... 301 Moved Permanently\n",
            "Location: https://drive.google.com/file/d/1hbzc_P1FuxMkcabkgn9ZKinBwW683j45/view [following]\n",
            "--2020-09-20 01:10:37--  https://drive.google.com/file/d/1hbzc_P1FuxMkcabkgn9ZKinBwW683j45/view\n",
            "Resolving drive.google.com (drive.google.com)... 74.125.142.138, 74.125.142.102, 74.125.142.139, ...\n",
            "Connecting to drive.google.com (drive.google.com)|74.125.142.138|:443... connected.\n",
            "HTTP request sent, awaiting response... 200 OK\n",
            "Length: unspecified [text/html]\n",
            "Saving to: ‘CUB_200_2011.tgz’\n",
            "\n",
            "CUB_200_2011.tgz        [ <=>                ]  60.84K  --.-KB/s    in 0.02s   \n",
            "\n",
            "2020-09-20 01:10:37 (2.47 MB/s) - ‘CUB_200_2011.tgz’ saved [62301]\n",
            "\n"
          ],
          "name": "stdout"
        }
      ]
    },
    {
      "cell_type": "code",
      "metadata": {
        "id": "xxZS19VZw3KN",
        "colab_type": "code",
        "colab": {}
      },
      "source": [
        "!cp /content/drive/My\\ Drive/Базы/NLP/CUB_200_2011.tgz -d /content/CUB_200_2011.tgz"
      ],
      "execution_count": null,
      "outputs": []
    },
    {
      "cell_type": "code",
      "metadata": {
        "id": "ELROAm-xyAtw",
        "colab_type": "code",
        "colab": {}
      },
      "source": [
        "!tar zxvf /content/CUB_200_2011.tgz"
      ],
      "execution_count": null,
      "outputs": []
    },
    {
      "cell_type": "markdown",
      "metadata": {
        "id": "N52eJ8vyyJd_",
        "colab_type": "text"
      },
      "source": [
        "#Код"
      ]
    },
    {
      "cell_type": "code",
      "metadata": {
        "id": "7STZFixAwaNL",
        "colab_type": "code",
        "colab": {}
      },
      "source": [
        "def load_class_ids(class_info_file_path): #загружаем\n",
        "\n",
        "    with open(class_info_file_path, 'rb') as f:\n",
        "        class_ids = pickle.load(f, encoding='latin1')\n",
        "        return class_ids\n",
        "      \n",
        "def load_embeddings(embeddings_file_path): #загружаем эмбеддинги\n",
        "    with open(embeddings_file_path, 'rb') as f:\n",
        "        embeddings = pickle.load(f, encoding='latin1')\n",
        "        embeddings = np.array(embeddings)\n",
        "        print('embeddings: ', embeddings.shape)\n",
        "    return embeddings\n",
        " \n",
        "def load_filenames(filenames_file_path): #загружаем список всех файлов\n",
        "    with open(filenames_file_path, 'rb') as f:\n",
        "        filenames = pickle.load(f, encoding='latin1')\n",
        "    return filenames\n",
        " \n",
        "def load_bounding_boxes(dataset_dir): #загружаем BB и возвращаем словарь файл:BB\n",
        "\n",
        "    # путь к файлу\n",
        "    bounding_boxes_path = os.path.join(dataset_dir, 'bounding_boxes.txt')\n",
        "    file_paths_path = os.path.join(dataset_dir, 'images.txt')\n",
        "\n",
        "    # читаем файлы\n",
        "    df_bounding_boxes = pd.read_csv(bounding_boxes_path,\n",
        "                                    delim_whitespace=True, header=None).astype(int)\n",
        "    df_file_names = pd.read_csv(file_paths_path, delim_whitespace=True, header=None)\n",
        "\n",
        "    # создаем список имен файлов\n",
        "    file_names = df_file_names[1].tolist()\n",
        "\n",
        "    # подготавливаем словарь\n",
        "    filename_boundingbox_dict = {img_file[:-4]: [] for img_file in file_names[:2]}\n",
        "\n",
        "    # записываем координаты BB\n",
        "    for i in range(0, len(file_names)):\n",
        "        # получаем\n",
        "        bounding_box = df_bounding_boxes.iloc[i][1:].tolist()\n",
        "        key = file_names[i][:-4]\n",
        "        filename_boundingbox_dict[key] = bounding_box\n",
        "\n",
        "    return filename_boundingbox_dict\n",
        "\n",
        "def get_img(img_path, bbox, image_size): #загрузка, обрезка по BB, ресайз\n",
        "    img = Image.open(img_path).convert('RGB')\n",
        "    width, height = img.size\n",
        "    if bbox is not None:\n",
        "        R = int(np.maximum(bbox[2], bbox[3]) * 0.75)\n",
        "        center_x = int((2 * bbox[0] + bbox[2]) / 2)\n",
        "        center_y = int((2 * bbox[1] + bbox[3]) / 2)\n",
        "        y1 = np.maximum(0, center_y - R)\n",
        "        y2 = np.minimum(height, center_y + R)\n",
        "        x1 = np.maximum(0, center_x - R)\n",
        "        x2 = np.minimum(width, center_x + R)\n",
        "        img = img.crop([x1, y1, x2, y2])\n",
        "    img = img.resize(image_size, PIL.Image.BILINEAR)\n",
        "    return img\n",
        " \n",
        "def load_dataset(filenames_file_path, class_info_file_path, cub_dataset_dir, embeddings_file_path, image_size): #загружаем весь датасет\n",
        "    filenames = load_filenames(filenames_file_path)\n",
        "    class_ids = load_class_ids(class_info_file_path)\n",
        "    bounding_boxes = load_bounding_boxes(cub_dataset_dir)\n",
        "    all_embeddings = load_embeddings(embeddings_file_path)\n",
        "\n",
        "    X, y, embeddings = [], [], []\n",
        "\n",
        "    print(\"Embeddings shape:\", all_embeddings.shape)\n",
        "\n",
        "    for index, filename in enumerate(filenames):\n",
        "        bounding_box = bounding_boxes[filename]\n",
        "\n",
        "        try:\n",
        "            # Загружаем изображения\n",
        "            img_name = '{}/images/{}.jpg'.format(cub_dataset_dir, filename)\n",
        "            img = get_img(img_name, bounding_box, image_size)\n",
        "\n",
        "            all_embeddings1 = all_embeddings[index, :, :]\n",
        "\n",
        "            embedding_ix = random.randint(0, all_embeddings1.shape[0] - 1)\n",
        "            embedding = all_embeddings1[embedding_ix, :]\n",
        "\n",
        "            X.append(np.array(img))\n",
        "            y.append(class_ids[index])\n",
        "            embeddings.append(embedding)\n",
        "        except Exception as e:\n",
        "            print(e)\n",
        "\n",
        "    X = np.array(X)\n",
        "    y = np.array(y)\n",
        "    embeddings = np.array(embeddings)\n",
        "    return X, y, embeddings"
      ],
      "execution_count": null,
      "outputs": []
    },
    {
      "cell_type": "code",
      "metadata": {
        "id": "XREyixGFxMgQ",
        "colab_type": "code",
        "colab": {}
      },
      "source": [
        "def generate_c(x): #reparametrisation trick\n",
        "    mean = x[:, :128]\n",
        "    log_sigma = x[:, 128:]\n",
        "    stddev = K.exp(log_sigma)\n",
        "    epsilon = K.random_normal(shape=K.constant((mean.shape[1],), dtype='int32'))\n",
        "    c = stddev * epsilon + mean\n",
        "    return c\n",
        "  \n",
        "  \n",
        "def build_embedding_compressor_model(): #сжатие эмбеддингов\n",
        "    input_layer = Input(shape=(1024,))\n",
        "    x = Dense(128)(input_layer)\n",
        "    x = ReLU()(x)\n",
        "\n",
        "    model = Model(inputs=[input_layer], outputs=[x])\n",
        "    return model\n",
        "  \n",
        "def build_stage1_generator(): #генератор на стадии 1\n",
        "    input_layer = Input(shape=(1024,))\n",
        "    x = Dense(256)(input_layer)\n",
        "    mean_logsigma = LeakyReLU(alpha=0.2)(x)\n",
        "\n",
        "    c = Lambda(generate_c)(mean_logsigma)\n",
        "\n",
        "    input_layer2 = Input(shape=(100,))\n",
        "\n",
        "    gen_input = Concatenate(axis=1)([c, input_layer2])\n",
        "\n",
        "    x = Dense(128 * 8 * 4 * 4, use_bias=False)(gen_input)\n",
        "    x = ReLU()(x)\n",
        "\n",
        "    x = Reshape((4, 4, 128 * 8), input_shape=(128 * 8 * 4 * 4,))(x)\n",
        "\n",
        "    x = UpSampling2D(size=(2, 2))(x)\n",
        "    x = Conv2D(512, kernel_size=3, padding=\"same\", strides=1, use_bias=False)(x)\n",
        "    x = BatchNormalization()(x)\n",
        "    x = ReLU()(x)\n",
        "\n",
        "    x = UpSampling2D(size=(2, 2))(x)\n",
        "    x = Conv2D(256, kernel_size=3, padding=\"same\", strides=1, use_bias=False)(x)\n",
        "    x = BatchNormalization()(x)\n",
        "    x = ReLU()(x)\n",
        "\n",
        "    x = UpSampling2D(size=(2, 2))(x)\n",
        "    x = Conv2D(128, kernel_size=3, padding=\"same\", strides=1, use_bias=False)(x)\n",
        "    x = BatchNormalization()(x)\n",
        "    x = ReLU()(x)\n",
        "\n",
        "    x = UpSampling2D(size=(2, 2))(x)\n",
        "    x = Conv2D(64, kernel_size=3, padding=\"same\", strides=1, use_bias=False)(x)\n",
        "    x = BatchNormalization()(x)\n",
        "    x = ReLU()(x)\n",
        "\n",
        "    x = Conv2D(3, kernel_size=3, padding=\"same\", strides=1, use_bias=False)(x)\n",
        "    x = Activation(activation='tanh')(x)\n",
        "\n",
        "    stage1_gen = Model(inputs=[input_layer, input_layer2], outputs=[x, mean_logsigma])\n",
        "    return stage1_gen\n",
        "\n",
        "def build_stage1_discriminator(): #дискриминатор, принимающий изображение и эмбеддинг описания изображения\n",
        "    input_layer = Input(shape=(64, 64, 3))\n",
        "\n",
        "    x = Conv2D(64, (4, 4),\n",
        "               padding='same', strides=2,\n",
        "               input_shape=(64, 64, 3), use_bias=False)(input_layer)\n",
        "    x = LeakyReLU(alpha=0.2)(x)\n",
        "\n",
        "    x = Conv2D(128, (4, 4), padding='same', strides=2, use_bias=False)(x)\n",
        "    x = BatchNormalization()(x)\n",
        "    x = LeakyReLU(alpha=0.2)(x)\n",
        "\n",
        "    x = Conv2D(256, (4, 4), padding='same', strides=2, use_bias=False)(x)\n",
        "    x = BatchNormalization()(x)\n",
        "    x = LeakyReLU(alpha=0.2)(x)\n",
        "\n",
        "    x = Conv2D(512, (4, 4), padding='same', strides=2, use_bias=False)(x)\n",
        "    x = BatchNormalization()(x)\n",
        "    x = LeakyReLU(alpha=0.2)(x)\n",
        "\n",
        "    input_layer2 = Input(shape=(4, 4, 128))\n",
        "\n",
        "    merged_input = concatenate([x, input_layer2])\n",
        "\n",
        "    x2 = Conv2D(64 * 8, kernel_size=1,\n",
        "                padding=\"same\", strides=1)(merged_input)\n",
        "    x2 = BatchNormalization()(x2)\n",
        "    x2 = LeakyReLU(alpha=0.2)(x2)\n",
        "    x2 = Flatten()(x2)\n",
        "    x2 = Dense(1)(x2)\n",
        "    x2 = Activation('sigmoid')(x2)\n",
        "\n",
        "    stage1_dis = Model(inputs=[input_layer, input_layer2], outputs=[x2])\n",
        "    return stage1_dis\n",
        "  \n",
        "def build_adversarial_model(gen_model, dis_model): #общая модель\n",
        "    input_layer = Input(shape=(1024,))\n",
        "    input_layer2 = Input(shape=(100,))\n",
        "    input_layer3 = Input(shape=(4, 4, 128))\n",
        "\n",
        "    x, mean_logsigma = gen_model([input_layer, input_layer2])\n",
        "\n",
        "    dis_model.trainable = False\n",
        "    valid = dis_model([x, input_layer3])\n",
        "\n",
        "    model = Model(inputs=[input_layer, input_layer2, input_layer3], outputs=[valid, mean_logsigma])\n",
        "    return model"
      ],
      "execution_count": null,
      "outputs": []
    },
    {
      "cell_type": "code",
      "metadata": {
        "id": "OwSPelqbxPcT",
        "colab_type": "code",
        "colab": {}
      },
      "source": [
        "def KL_loss(y_true, y_pred): #Расстояние Кульбака-Лейблера\n",
        "    mean = y_pred[:, :128]\n",
        "    logsigma = y_pred[:, :128]\n",
        "    loss = -logsigma + .5 * (-1 + K.exp(2. * logsigma) + K.square(mean))\n",
        "    loss = K.mean(loss)\n",
        "    return loss\n",
        "    \n",
        "\n",
        "def custom_generator_loss(y_true, y_pred):\n",
        "    # Calculate binary cross entropy loss\n",
        "    return K.binary_crossentropy(y_true, y_pred)"
      ],
      "execution_count": null,
      "outputs": []
    },
    {
      "cell_type": "code",
      "metadata": {
        "id": "U7AYAvnbxTee",
        "colab_type": "code",
        "colab": {}
      },
      "source": [
        "def save_rgb_img(img, path): #сохраняем картинку по пути\n",
        "    fig = plt.figure()\n",
        "    ax = fig.add_subplot(1, 1, 1)\n",
        "    ax.imshow(img)\n",
        "    ax.axis(\"off\")\n",
        "    ax.set_title(\"Image\")\n",
        "\n",
        "    plt.savefig(path)\n",
        "    plt.close()"
      ],
      "execution_count": null,
      "outputs": []
    },
    {
      "cell_type": "code",
      "metadata": {
        "id": "ZuJMIBLrxXV4",
        "colab_type": "code",
        "colab": {
          "base_uri": "https://localhost:8080/",
          "height": 84
        },
        "outputId": "fe14a8e5-63f7-4260-fd46-c2aabd05f260"
      },
      "source": [
        "#гиперпараметры\n",
        "data_dir = \"/content/birds/\"\n",
        "train_dir = data_dir + \"/train\"\n",
        "test_dir = data_dir + \"/test\"\n",
        "image_size = 64\n",
        "batch_size = 64\n",
        "z_dim = 100\n",
        "stage1_generator_lr = 0.0002\n",
        "stage1_discriminator_lr = 0.0002\n",
        "stage1_lr_decay_step = 600\n",
        "epochs = 1000\n",
        "condition_dim = 128\n",
        "\n",
        "#указываем путь к необходимым файлам\n",
        "embeddings_file_path_train = train_dir + \"/char-CNN-RNN-embeddings.pickle\"\n",
        "embeddings_file_path_test = test_dir + \"/char-CNN-RNN-embeddings.pickle\"\n",
        "\n",
        "filenames_file_path_train = train_dir + \"/filenames.pickle\"\n",
        "filenames_file_path_test = test_dir + \"/filenames.pickle\"\n",
        "\n",
        "class_info_file_path_train = train_dir + \"/class_info.pickle\"\n",
        "class_info_file_path_test = test_dir + \"/class_info.pickle\"\n",
        "\n",
        "cub_dataset_dir = \"/content/CUB_200_2011\"\n",
        "\n",
        "#создаем оптимизаторы\n",
        "dis_optimizer = Adam(lr=stage1_discriminator_lr, beta_1=0.5, beta_2=0.999)\n",
        "gen_optimizer = Adam(lr=stage1_generator_lr, beta_1=0.5, beta_2=0.999)\n",
        "\n",
        "#загружаем датасеты\n",
        "X_train, y_train, embeddings_train = load_dataset(filenames_file_path=filenames_file_path_train,\n",
        "                                                  class_info_file_path=class_info_file_path_train,\n",
        "                                                  cub_dataset_dir=cub_dataset_dir,\n",
        "                                                  embeddings_file_path=embeddings_file_path_train,\n",
        "                                                  image_size=(64, 64))\n",
        "\n",
        "X_test, y_test, embeddings_test = load_dataset(filenames_file_path=filenames_file_path_test,\n",
        "                                                class_info_file_path=class_info_file_path_test,\n",
        "                                                cub_dataset_dir=cub_dataset_dir,\n",
        "                                                embeddings_file_path=embeddings_file_path_test,\n",
        "                                                image_size=(64, 64))\n",
        "#создаем и компилируем сети\n",
        "\n",
        "\n",
        "stage1_dis = build_stage1_discriminator()\n",
        "stage1_dis.compile(loss='binary_crossentropy', optimizer=dis_optimizer)\n",
        "\n",
        "stage1_gen = build_stage1_generator()\n",
        "stage1_gen.compile(loss=\"mse\", optimizer=gen_optimizer)\n",
        "\n",
        "embedding_compressor_model = build_embedding_compressor_model()\n",
        "embedding_compressor_model.compile(loss=\"binary_crossentropy\", optimizer=\"adam\")\n",
        "\n",
        "adversarial_model = build_adversarial_model(gen_model=stage1_gen, dis_model=stage1_dis)\n",
        "adversarial_model.compile(loss=['binary_crossentropy', KL_loss], loss_weights=[1, 2.0],\n",
        "                          optimizer=gen_optimizer, metrics=None)\n",
        "\n",
        "\n",
        "# создаем лейблы для тренировки\n",
        "# label smoothing\n",
        "real_labels = np.ones((batch_size, 1), dtype=float) * 0.9\n",
        "fake_labels = np.zeros((batch_size, 1), dtype=float) + 0.1"
      ],
      "execution_count": null,
      "outputs": [
        {
          "output_type": "stream",
          "text": [
            "embeddings:  (8855, 10, 1024)\n",
            "Embeddings shape: (8855, 10, 1024)\n",
            "embeddings:  (2933, 10, 1024)\n",
            "Embeddings shape: (2933, 10, 1024)\n"
          ],
          "name": "stdout"
        }
      ]
    },
    {
      "cell_type": "code",
      "metadata": {
        "id": "KdBUdtUJyVvm",
        "colab_type": "code",
        "colab": {}
      },
      "source": [
        "for epoch in range(epochs):\n",
        "    print(\"========================================\")\n",
        "    print(\"Epoch is:\", epoch)\n",
        "    print(\"Number of batches\", int(X_train.shape[0] / batch_size))\n",
        "\n",
        "    gen_losses = []\n",
        "    dis_losses = []\n",
        "\n",
        "\n",
        "    number_of_batches = int(X_train.shape[0] / batch_size)\n",
        "    for index in range(number_of_batches):\n",
        "        print(\"Batch:{}\".format(index+1))\n",
        "        \n",
        "        #генерим фейковы изображения для дискриминатора\n",
        "        z_noise = np.random.normal(0, 1, size=(batch_size, z_dim))\n",
        "        image_batch = X_train[index * batch_size:(index + 1) * batch_size]\n",
        "        embedding_batch = embeddings_train[index * batch_size:(index + 1) * batch_size]\n",
        "        image_batch = (image_batch - 127.5) / 127.5\n",
        "\n",
        "        # Генерим фейковые изображения\n",
        "        fake_images, _ = stage1_gen.predict([embedding_batch, z_noise], verbose=3)\n",
        "\n",
        "        # Сжатые эмбеддинги\n",
        "        compressed_embedding = embedding_compressor_model.predict_on_batch(embedding_batch)\n",
        "        compressed_embedding = np.reshape(compressed_embedding, (-1, 1, 1, condition_dim))\n",
        "        compressed_embedding = np.tile(compressed_embedding, (1, 4, 4, 1))\n",
        "\n",
        "        #тренируем дискриминатор\n",
        "        dis_loss_real = stage1_dis.train_on_batch([image_batch, compressed_embedding],\n",
        "                                                  np.reshape(real_labels, (batch_size, 1)))\n",
        "        dis_loss_fake = stage1_dis.train_on_batch([fake_images, compressed_embedding],\n",
        "                                                  np.reshape(fake_labels, (batch_size, 1)))\n",
        "        dis_loss_wrong = stage1_dis.train_on_batch([image_batch[:(batch_size - 1)], compressed_embedding[1:]],\n",
        "                                                    np.reshape(fake_labels[1:], (batch_size-1, 1)))\n",
        "\n",
        "        d_loss = 0.5 * np.add(dis_loss_real, 0.5 * np.add(dis_loss_wrong, dis_loss_fake))\n",
        "\n",
        "        print(\"d_loss_real:{}\".format(dis_loss_real))\n",
        "        print(\"d_loss_fake:{}\".format(dis_loss_fake))\n",
        "        print(\"d_loss_wrong:{}\".format(dis_loss_wrong))\n",
        "        print(\"d_loss:{}\".format(d_loss))\n",
        "\n",
        "        #тренируем генератор\n",
        "        g_loss = adversarial_model.train_on_batch([embedding_batch, z_noise, compressed_embedding],[K.ones((batch_size, 1)) * 0.9, K.ones((batch_size, 256)) * 0.9])\n",
        "        print(\"g_loss:{}\".format(g_loss))\n",
        "\n",
        "        dis_losses.append(d_loss)\n",
        "        gen_losses.append(g_loss)\n",
        "\n",
        "    \n",
        "    # На каждой четной эпохе создаем очередную партию изображений для визуализации\n",
        "    if epoch % 2 == 0:\n",
        "        z_noise2 = np.random.normal(0, 1, size=(batch_size, z_dim))\n",
        "        embedding_batch = embeddings_test[0:batch_size]\n",
        "        fake_images, _ = stage1_gen.predict_on_batch([embedding_batch, z_noise2])\n",
        "\n",
        "        # Save images\n",
        "        for i, img in enumerate(fake_images[:10]):\n",
        "            save_rgb_img(img, \"results/gen_{}_{}.png\".format(epoch, i))\n",
        "\n",
        "#сохраняем модели\n",
        "stage1_gen.save_weights(\"stage1_gen.h5\")\n",
        "stage1_dis.save_weights(\"stage1_dis.h5\")"
      ],
      "execution_count": null,
      "outputs": []
    },
    {
      "cell_type": "code",
      "metadata": {
        "id": "hGk4lxJUiPN4",
        "colab_type": "code",
        "colab": {}
      },
      "source": [
        "!ls results"
      ],
      "execution_count": null,
      "outputs": []
    },
    {
      "cell_type": "code",
      "metadata": {
        "id": "uUx2GTRBitwa",
        "colab_type": "code",
        "colab": {}
      },
      "source": [
        "!cp -r /content/results  /content/drive/My\\ Drive/Базы/NLP/Birds/results"
      ],
      "execution_count": null,
      "outputs": []
    },
    {
      "cell_type": "code",
      "metadata": {
        "id": "7NR1LmkFsl55",
        "colab_type": "code",
        "colab": {}
      },
      "source": [
        "#сохраняем модели\n",
        "stage1_gen.save_weights(\"/content/drive/My Drive/Базы/NLP/Birds/results/stage1_gen.h5\")\n",
        "stage1_dis.save_weights(\"/content/drive/My Drive/Базы/NLP/Birds/results/stage1_dis.h5\")"
      ],
      "execution_count": null,
      "outputs": []
    },
    {
      "cell_type": "code",
      "metadata": {
        "id": "IKnjpWVIui_9",
        "colab_type": "code",
        "colab": {
          "base_uri": "https://localhost:8080/",
          "height": 291
        },
        "outputId": "a5b6c802-f87f-4e98-b235-11cd0e64ebcf"
      },
      "source": [
        "image = np.array(Image.open('results/gen_0_0.png'), dtype=np.uint8)\n",
        "plt.figure(figsize=(7,7))\n",
        "plt.axis(\"off\")\n",
        "plt.imshow(image)\n",
        "plt.show()"
      ],
      "execution_count": null,
      "outputs": [
        {
          "output_type": "display_data",
          "data": {
            "image/png": "[encoded data removed]",
            "text/plain": [
              "<Figure size 504x504 with 1 Axes>"
            ]
          },
          "metadata": {
            "tags": [],
            "needs_background": "light"
          }
        }
      ]
    },
    {
      "cell_type": "code",
      "metadata": {
        "id": "6b17RHxkvqXC",
        "colab_type": "code",
        "colab": {
          "base_uri": "https://localhost:8080/",
          "height": 291
        },
        "outputId": "6de6fd61-4c97-4c5f-92f8-62df5b000737"
      },
      "source": [
        "image = np.array(Image.open('results/gen_704_9.png'), dtype=np.uint8)\n",
        "plt.figure(figsize=(7,7))\n",
        "plt.axis(\"off\")\n",
        "plt.imshow(image)\n",
        "plt.show()"
      ],
      "execution_count": null,
      "outputs": [
        {
          "output_type": "display_data",
          "data": {
            "image/png": "[encoded data removed]",
            "text/plain": [
              "<Figure size 504x504 with 1 Axes>"
            ]
          },
          "metadata": {
            "tags": [],
            "needs_background": "light"
          }
        }
      ]
    }
  ]
}